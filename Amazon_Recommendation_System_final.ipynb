{
 "cells": [
  {
   "cell_type": "markdown",
   "metadata": {},
   "source": [
    "# Recommendation Systems for Amazon Electronic Products\n",
    "# Table of Contents\n",
    "1. Introduction\n",
    "2. Importing Libraries\n",
    "3. Loading Datasets\n",
    "4. Exploratory Data Analysis\n",
    "5. Recommender Systems\n",
    "6. Conclusion"
   ]
  },
  {
   "cell_type": "markdown",
   "metadata": {},
   "source": [
    "\n",
    "\n",
    "# Introduction\n",
    "A recommender system, or a recommendation system, is a subclass of information filtering system that seeks to predict the \"rating\" or \"preference\" a user would give to an item. Online E-commerce websites like Amazon, Filpkart uses different recommendation models to provide different suggestions to different users. Amazon currently uses item-to-item collaborative filtering, which scales to massive data sets and produces high-quality recommendations in real time.\n",
    "This type of filtering matches each of the user's purchased and rated items to similar items, then combines those similar items into a recommendation list for the user. In this project we are going to build recommendation model for the electronics products of Amazon.\n",
    "\n",
    "The main types of recommendations systems include:\n",
    "\n",
    "# Popularity-Based Recommender\n",
    "It offers generalized recommendations to every user, based on product popularity. This system recommends same products to all users and it does not give personalized recommendations to users.\n",
    "\n",
    "# Content-Based Recommender\n",
    "It builds an engine that computes similarity between products based on certain metrics such as description, and suggests products that are most similar to a particular product that a user liked. The general idea behind these recommender systems is that if a person liked a particular item, he or she will also like an item that is similar to it.\n",
    "\n",
    "# Collaborative Recommender\n",
    "This system matches persons with similar interests and provides recommendations based on this matching. Collaborative filtering is based on the idea that users similar to a particular user can be used to predict how much that particular user will like a particular product or service those users have used/experienced but that particular user has not.\n",
    "\n",
    "# Hybrid Recommender\n",
    "This system builds an ensemble of Collaborative, Content-Based or Popularity-Based models to come up with a comprehensive Hybrid Recommendation System.\n",
    "\n",
    "\n",
    "# For this project, we are using the Electronics dataset which includes:\n",
    "userId : Every user identified with a unique id\n",
    "\n",
    "productId : Every product identified with a unique id\n",
    "\n",
    "Rating : Rating of the corresponding product by the corresponding user\n",
    "\n",
    "timestamp : Time of the rating ( ignore this column for this project)\n",
    "\n",
    "Our objective is to build a recommendation system to recommend products to customers based on the their previous ratings for other products. For this purpose, first we will perform exploratory data analysis and then implement recommendation algorithms including Popularity based Collaborative filtering using Singular value decomposition, Collaborative filtering using KNNWithmeans (user-user similarity),Collaborative filtering using KNNWithmeans (item-item similarity) and Hybrid recommender system"
   ]
  },
  {
   "cell_type": "code",
   "execution_count": 1,
   "metadata": {},
   "outputs": [],
   "source": [
    "#import the libraries\n",
    "import numpy as np\n",
    "import pandas as pd\n",
    "import seaborn as sns\n",
    "import matplotlib.pyplot as plt\n",
    "import warnings\n",
    "warnings.filterwarnings('ignore')\n",
    "import os"
   ]
  },
  {
   "cell_type": "code",
   "execution_count": 2,
   "metadata": {},
   "outputs": [
    {
     "name": "stdout",
     "output_type": "stream",
     "text": [
      "Data Exists\n",
      "Data Loaded\n"
     ]
    }
   ],
   "source": [
    "from os import path\n",
    "if path.exists(\"ratings_Electronics.csv\"):\n",
    "    print (\"Data Exists\")\n",
    "    Data=pd.read_csv('ratings_Electronics.csv',names=('userId','productId','ratings','timestamp'))\n",
    "    print('Data Loaded')\n",
    "    \n",
    "else:\n",
    "    os.system('curl http://snap.stanford.edu/data/amazon/productGraph/categoryFiles/ratings_Electronics.csv -o ratings_Electronics.csv')\n",
    "    print('Done downloading')"
   ]
  },
  {
   "cell_type": "markdown",
   "metadata": {},
   "source": [
    "if the above code block does not work, get data from here\n",
    "http://snap.stanford.edu/data/amazon/productGraph/categoryFiles/ratings_Electronics.csv\n",
    "\n",
    "Data=pd.read_csv(r'C:\\Users\\vinod\\Downloads\\ratings_Electronics.csv',names=('userId','productId','ratings','timestamp'))"
   ]
  },
  {
   "cell_type": "code",
   "execution_count": 3,
   "metadata": {},
   "outputs": [
    {
     "data": {
      "text/html": [
       "<div>\n",
       "<style scoped>\n",
       "    .dataframe tbody tr th:only-of-type {\n",
       "        vertical-align: middle;\n",
       "    }\n",
       "\n",
       "    .dataframe tbody tr th {\n",
       "        vertical-align: top;\n",
       "    }\n",
       "\n",
       "    .dataframe thead th {\n",
       "        text-align: right;\n",
       "    }\n",
       "</style>\n",
       "<table border=\"1\" class=\"dataframe\">\n",
       "  <thead>\n",
       "    <tr style=\"text-align: right;\">\n",
       "      <th></th>\n",
       "      <th>userId</th>\n",
       "      <th>productId</th>\n",
       "      <th>ratings</th>\n",
       "      <th>timestamp</th>\n",
       "    </tr>\n",
       "  </thead>\n",
       "  <tbody>\n",
       "    <tr>\n",
       "      <th>0</th>\n",
       "      <td>AKM1MP6P0OYPR</td>\n",
       "      <td>0132793040</td>\n",
       "      <td>5.0</td>\n",
       "      <td>1365811200</td>\n",
       "    </tr>\n",
       "    <tr>\n",
       "      <th>1</th>\n",
       "      <td>A2CX7LUOHB2NDG</td>\n",
       "      <td>0321732944</td>\n",
       "      <td>5.0</td>\n",
       "      <td>1341100800</td>\n",
       "    </tr>\n",
       "    <tr>\n",
       "      <th>2</th>\n",
       "      <td>A2NWSAGRHCP8N5</td>\n",
       "      <td>0439886341</td>\n",
       "      <td>1.0</td>\n",
       "      <td>1367193600</td>\n",
       "    </tr>\n",
       "    <tr>\n",
       "      <th>3</th>\n",
       "      <td>A2WNBOD3WNDNKT</td>\n",
       "      <td>0439886341</td>\n",
       "      <td>3.0</td>\n",
       "      <td>1374451200</td>\n",
       "    </tr>\n",
       "    <tr>\n",
       "      <th>4</th>\n",
       "      <td>A1GI0U4ZRJA8WN</td>\n",
       "      <td>0439886341</td>\n",
       "      <td>1.0</td>\n",
       "      <td>1334707200</td>\n",
       "    </tr>\n",
       "  </tbody>\n",
       "</table>\n",
       "</div>"
      ],
      "text/plain": [
       "           userId   productId  ratings   timestamp\n",
       "0   AKM1MP6P0OYPR  0132793040      5.0  1365811200\n",
       "1  A2CX7LUOHB2NDG  0321732944      5.0  1341100800\n",
       "2  A2NWSAGRHCP8N5  0439886341      1.0  1367193600\n",
       "3  A2WNBOD3WNDNKT  0439886341      3.0  1374451200\n",
       "4  A1GI0U4ZRJA8WN  0439886341      1.0  1334707200"
      ]
     },
     "execution_count": 3,
     "metadata": {},
     "output_type": "execute_result"
    }
   ],
   "source": [
    "Data.head()"
   ]
  },
  {
   "cell_type": "code",
   "execution_count": 4,
   "metadata": {},
   "outputs": [
    {
     "name": "stdout",
     "output_type": "stream",
     "text": [
      "Number of rows: 7824482 & Columns : 4 in our Dataset\n"
     ]
    }
   ],
   "source": [
    "print(\"Number of rows: {} & Columns : {} in our Dataset\".format(Data.shape[0],Data.shape[1]))"
   ]
  },
  {
   "cell_type": "code",
   "execution_count": 5,
   "metadata": {},
   "outputs": [],
   "source": [
    "#dropping timestamp column as it is not used for our analysis\n",
    "Data=Data.drop(['timestamp'],axis=1)"
   ]
  },
  {
   "cell_type": "code",
   "execution_count": 6,
   "metadata": {},
   "outputs": [
    {
     "data": {
      "text/html": [
       "<div>\n",
       "<style scoped>\n",
       "    .dataframe tbody tr th:only-of-type {\n",
       "        vertical-align: middle;\n",
       "    }\n",
       "\n",
       "    .dataframe tbody tr th {\n",
       "        vertical-align: top;\n",
       "    }\n",
       "\n",
       "    .dataframe thead th {\n",
       "        text-align: right;\n",
       "    }\n",
       "</style>\n",
       "<table border=\"1\" class=\"dataframe\">\n",
       "  <thead>\n",
       "    <tr style=\"text-align: right;\">\n",
       "      <th></th>\n",
       "      <th>userId</th>\n",
       "      <th>productId</th>\n",
       "      <th>ratings</th>\n",
       "    </tr>\n",
       "  </thead>\n",
       "  <tbody>\n",
       "    <tr>\n",
       "      <th>0</th>\n",
       "      <td>AKM1MP6P0OYPR</td>\n",
       "      <td>0132793040</td>\n",
       "      <td>5.0</td>\n",
       "    </tr>\n",
       "    <tr>\n",
       "      <th>1</th>\n",
       "      <td>A2CX7LUOHB2NDG</td>\n",
       "      <td>0321732944</td>\n",
       "      <td>5.0</td>\n",
       "    </tr>\n",
       "    <tr>\n",
       "      <th>2</th>\n",
       "      <td>A2NWSAGRHCP8N5</td>\n",
       "      <td>0439886341</td>\n",
       "      <td>1.0</td>\n",
       "    </tr>\n",
       "    <tr>\n",
       "      <th>3</th>\n",
       "      <td>A2WNBOD3WNDNKT</td>\n",
       "      <td>0439886341</td>\n",
       "      <td>3.0</td>\n",
       "    </tr>\n",
       "    <tr>\n",
       "      <th>4</th>\n",
       "      <td>A1GI0U4ZRJA8WN</td>\n",
       "      <td>0439886341</td>\n",
       "      <td>1.0</td>\n",
       "    </tr>\n",
       "  </tbody>\n",
       "</table>\n",
       "</div>"
      ],
      "text/plain": [
       "           userId   productId  ratings\n",
       "0   AKM1MP6P0OYPR  0132793040      5.0\n",
       "1  A2CX7LUOHB2NDG  0321732944      5.0\n",
       "2  A2NWSAGRHCP8N5  0439886341      1.0\n",
       "3  A2WNBOD3WNDNKT  0439886341      3.0\n",
       "4  A1GI0U4ZRJA8WN  0439886341      1.0"
      ]
     },
     "execution_count": 6,
     "metadata": {},
     "output_type": "execute_result"
    }
   ],
   "source": [
    "Data.head()"
   ]
  },
  {
   "cell_type": "code",
   "execution_count": 7,
   "metadata": {},
   "outputs": [
    {
     "name": "stdout",
     "output_type": "stream",
     "text": [
      "<class 'pandas.core.frame.DataFrame'>\n",
      "RangeIndex: 7824482 entries, 0 to 7824481\n",
      "Data columns (total 3 columns):\n",
      " #   Column     Dtype  \n",
      "---  ------     -----  \n",
      " 0   userId     object \n",
      " 1   productId  object \n",
      " 2   ratings    float64\n",
      "dtypes: float64(1), object(2)\n",
      "memory usage: 179.1+ MB\n"
     ]
    }
   ],
   "source": [
    "Data.info()"
   ]
  },
  {
   "cell_type": "markdown",
   "metadata": {},
   "source": [
    "After removing timestamp column, our dataset has three columns where two are of object type and rating being a neumeric(float)."
   ]
  },
  {
   "cell_type": "code",
   "execution_count": 8,
   "metadata": {},
   "outputs": [
    {
     "name": "stdout",
     "output_type": "stream",
     "text": [
      "Number of Duplicates in our dataset :0\n"
     ]
    }
   ],
   "source": [
    "dp=Data.duplicated().sum()\n",
    "#Checking duplicates \n",
    "print(\"Number of Duplicates in our dataset :{}\".format(dp))"
   ]
  },
  {
   "cell_type": "markdown",
   "metadata": {},
   "source": [
    "Check for Null Values"
   ]
  },
  {
   "cell_type": "code",
   "execution_count": 9,
   "metadata": {},
   "outputs": [
    {
     "data": {
      "text/plain": [
       "userId       0\n",
       "productId    0\n",
       "ratings      0\n",
       "dtype: int64"
      ]
     },
     "execution_count": 9,
     "metadata": {},
     "output_type": "execute_result"
    }
   ],
   "source": [
    "Data.isna().sum()"
   ]
  },
  {
   "cell_type": "code",
   "execution_count": 10,
   "metadata": {},
   "outputs": [
    {
     "data": {
      "text/plain": [
       "userId       0\n",
       "productId    0\n",
       "ratings      0\n",
       "dtype: int64"
      ]
     },
     "execution_count": 10,
     "metadata": {},
     "output_type": "execute_result"
    }
   ],
   "source": [
    "Data.isnull().sum()"
   ]
  },
  {
   "cell_type": "markdown",
   "metadata": {},
   "source": [
    "As you could see there are no null values either in our dataset"
   ]
  },
  {
   "cell_type": "code",
   "execution_count": 11,
   "metadata": {},
   "outputs": [
    {
     "name": "stdout",
     "output_type": "stream",
     "text": [
      "The number of Unique Users:4201696 and number of unique products:476002 in our ecommerce site\n"
     ]
    }
   ],
   "source": [
    "uq=len(Data['userId'].unique())\n",
    "pq=len(Data['productId'].unique())\n",
    "print(\"The number of Unique Users:{} and number of unique products:{} in our ecommerce site\".format(uq,pq))"
   ]
  },
  {
   "cell_type": "code",
   "execution_count": 12,
   "metadata": {},
   "outputs": [
    {
     "name": "stdout",
     "output_type": "stream",
     "text": [
      "             count      mean      std  min  25%  50%  75%  max\n",
      "ratings  7824482.0  4.012337  1.38091  1.0  3.0  5.0  5.0  5.0\n",
      "______________________________________________________________\n",
      "IQR for ratings in our data is :2.0\n"
     ]
    }
   ],
   "source": [
    "print(Data.describe(exclude=[np.object]).T)\n",
    "q1=Data['ratings'].quantile(.25)\n",
    "q3=Data['ratings'].quantile(.50)\n",
    "IQR=q3-q1\n",
    "print(\"______________________________________________________________\")\n",
    "print(\"IQR for ratings in our data is :{}\".format(IQR))"
   ]
  },
  {
   "cell_type": "markdown",
   "metadata": {},
   "source": [
    "# Statistical Analysis:\n",
    "Since userid and productid columns are objects, we shall do Statistical analysis of rating column alone.\n",
    "\n",
    "Every user in the dataset has rated atleast one product.\n",
    "The Minimum rating that a product has received in 1.0 and the max rating the product has received is 5.0.\n",
    "The range of dispersion for rating is 1-5.\n",
    "The average/mean rating by all users to our products is 4.01, with standard deviation 0f 1.3. Our data points are quite widely spread from the mean.\n",
    "\n",
    "Our First Qaurtile 25% is 3 which means 25% of data points fall at or below it.\n",
    "\n",
    "Our median second Qaurtile at 50% is 5.\n",
    "Our Third quartile 75% is 5."
   ]
  },
  {
   "cell_type": "code",
   "execution_count": 13,
   "metadata": {},
   "outputs": [
    {
     "name": "stdout",
     "output_type": "stream",
     "text": [
      "ratings\n",
      "1.0     901765\n",
      "2.0     456322\n",
      "3.0     633073\n",
      "4.0    1485781\n",
      "5.0    4347541\n",
      "Name: ratings, dtype: int64\n"
     ]
    },
    {
     "data": {
      "image/png": "[encoded data removed]",
      "text/plain": [
       "<Figure size 1080x360 with 1 Axes>"
      ]
     },
     "metadata": {
      "needs_background": "light"
     },
     "output_type": "display_data"
    }
   ],
   "source": [
    "rt_gp=Data.groupby('ratings')['ratings'].count()\n",
    "print(rt_gp)\n",
    "plt.figure(figsize=(15,5))\n",
    "sns.distplot(Data['ratings'],norm_hist=True);"
   ]
  },
  {
   "cell_type": "code",
   "execution_count": 14,
   "metadata": {},
   "outputs": [
    {
     "data": {
      "text/plain": [
       "<matplotlib.axes._subplots.AxesSubplot at 0x28e814ff2c8>"
      ]
     },
     "execution_count": 14,
     "metadata": {},
     "output_type": "execute_result"
    },
    {
     "data": {
      "image/png": "[encoded data removed]",
      "text/plain": [
       "<Figure size 864x360 with 1 Axes>"
      ]
     },
     "metadata": {
      "needs_background": "light"
     },
     "output_type": "display_data"
    }
   ],
   "source": [
    "plt.figure(figsize=(12,5))\n",
    "sns.countplot(Data['ratings'],palette=\"Set3\")"
   ]
  },
  {
   "cell_type": "markdown",
   "metadata": {},
   "source": [
    "From the histogram, we could see the five groups of ratings.\n",
    "Looks like our users are more generous and have given the top rating 5 for good products.\n",
    "Ratings 1,2,3 have a similiar trend among users, whereas rating 4 is slighly higher.\n",
    "\n"
   ]
  },
  {
   "cell_type": "markdown",
   "metadata": {},
   "source": [
    "We study the distribuition of number of ratings and mean ratings recorded for each product."
   ]
  },
  {
   "cell_type": "code",
   "execution_count": 15,
   "metadata": {},
   "outputs": [],
   "source": [
    "df_rating=pd.DataFrame({'Number of Rating':Data.groupby('productId').count()['ratings'], 'Mean Rating':Data.groupby('productId').mean()['ratings']})"
   ]
  },
  {
   "cell_type": "code",
   "execution_count": 16,
   "metadata": {},
   "outputs": [
    {
     "data": {
      "text/html": [
       "<div>\n",
       "<style scoped>\n",
       "    .dataframe tbody tr th:only-of-type {\n",
       "        vertical-align: middle;\n",
       "    }\n",
       "\n",
       "    .dataframe tbody tr th {\n",
       "        vertical-align: top;\n",
       "    }\n",
       "\n",
       "    .dataframe thead th {\n",
       "        text-align: right;\n",
       "    }\n",
       "</style>\n",
       "<table border=\"1\" class=\"dataframe\">\n",
       "  <thead>\n",
       "    <tr style=\"text-align: right;\">\n",
       "      <th></th>\n",
       "      <th>Number of Rating</th>\n",
       "      <th>Mean Rating</th>\n",
       "    </tr>\n",
       "    <tr>\n",
       "      <th>productId</th>\n",
       "      <th></th>\n",
       "      <th></th>\n",
       "    </tr>\n",
       "  </thead>\n",
       "  <tbody>\n",
       "    <tr>\n",
       "      <th>0132793040</th>\n",
       "      <td>1</td>\n",
       "      <td>5.000000</td>\n",
       "    </tr>\n",
       "    <tr>\n",
       "      <th>0321732944</th>\n",
       "      <td>1</td>\n",
       "      <td>5.000000</td>\n",
       "    </tr>\n",
       "    <tr>\n",
       "      <th>0439886341</th>\n",
       "      <td>3</td>\n",
       "      <td>1.666667</td>\n",
       "    </tr>\n",
       "    <tr>\n",
       "      <th>0511189877</th>\n",
       "      <td>6</td>\n",
       "      <td>4.500000</td>\n",
       "    </tr>\n",
       "    <tr>\n",
       "      <th>0528881469</th>\n",
       "      <td>27</td>\n",
       "      <td>2.851852</td>\n",
       "    </tr>\n",
       "  </tbody>\n",
       "</table>\n",
       "</div>"
      ],
      "text/plain": [
       "            Number of Rating  Mean Rating\n",
       "productId                                \n",
       "0132793040                 1     5.000000\n",
       "0321732944                 1     5.000000\n",
       "0439886341                 3     1.666667\n",
       "0511189877                 6     4.500000\n",
       "0528881469                27     2.851852"
      ]
     },
     "execution_count": 16,
     "metadata": {},
     "output_type": "execute_result"
    }
   ],
   "source": [
    "df_rating.head()"
   ]
  },
  {
   "cell_type": "code",
   "execution_count": 17,
   "metadata": {},
   "outputs": [
    {
     "data": {
      "image/png": "[encoded data removed]",
      "text/plain": [
       "<Figure size 1296x432 with 2 Axes>"
      ]
     },
     "metadata": {
      "needs_background": "light"
     },
     "output_type": "display_data"
    }
   ],
   "source": [
    "plt.figure(figsize=(18,6))\n",
    "\n",
    "plt.subplot(1,2,1)\n",
    "plt.hist(x='Number of Rating',data=df_rating,bins=30,color='teal')\n",
    "plt.title('Distribution of Number of Rating', fontsize=15)\n",
    "plt.xlabel('Number of Rating', fontsize=12)\n",
    "plt.ylabel('Frequency', fontsize=12)\n",
    "\n",
    "plt.subplot(1,2,2)\n",
    "plt.hist(x='Mean Rating',data=df_rating,bins=30, color='slateblue')\n",
    "plt.title('Distribution of Mean Rating', fontsize=15)\n",
    "plt.xlabel('Mean Rating', fontsize=12)\n",
    "plt.yticks([])\n",
    "plt.show()"
   ]
  },
  {
   "cell_type": "markdown",
   "metadata": {},
   "source": [
    "From these histograms we can see that most of the number of ratings are between 0 and 1825, and most of the products have a mean rating of 5."
   ]
  },
  {
   "cell_type": "markdown",
   "metadata": {},
   "source": [
    "We create a scatter plot to observe the relationship between Number of Rating and Mean Rating."
   ]
  },
  {
   "cell_type": "code",
   "execution_count": 18,
   "metadata": {},
   "outputs": [
    {
     "data": {
      "text/plain": [
       "<Figure size 576x432 with 0 Axes>"
      ]
     },
     "metadata": {},
     "output_type": "display_data"
    },
    {
     "data": {
      "image/png": "[encoded data removed]",
      "text/plain": [
       "<Figure size 504x504 with 3 Axes>"
      ]
     },
     "metadata": {
      "needs_background": "light"
     },
     "output_type": "display_data"
    }
   ],
   "source": [
    "plt.figure(figsize=(8,6))\n",
    "sns.jointplot(x='Number of Rating', y='Mean Rating',data=df_rating,color='g', height=7)\n",
    "plt.suptitle('Mean Rating Versus Number of Rating', fontsize=15, y=0.92)\n",
    "\n",
    "plt.show()"
   ]
  },
  {
   "cell_type": "markdown",
   "metadata": {},
   "source": [
    "##### Distribution Analysis:\n",
    "User Group 1,2,3 is normally distributed with a smooth peak and are platykurtic , whereas for groups 4 & 5 the peaks are sharp and are leptokurtic.\n",
    "Tip: kurtosis values are compared with that of the normal distribution as values less than 3 are said to be platykurtic, or \"flat-topped.\" Alternatively, kurtosis values higher than 3 are said to be leptokurtic, usually appearing sharp at their peak value."
   ]
  },
  {
   "cell_type": "code",
   "execution_count": 19,
   "metadata": {},
   "outputs": [
    {
     "data": {
      "text/plain": [
       "-1.2053971865633306"
      ]
     },
     "execution_count": 19,
     "metadata": {},
     "output_type": "execute_result"
    }
   ],
   "source": [
    "Data['ratings'].skew()"
   ]
  },
  {
   "cell_type": "markdown",
   "metadata": {},
   "source": [
    "Ratings in our data is a negatively skewed with the tail being extended towards left from the median."
   ]
  },
  {
   "cell_type": "code",
   "execution_count": 20,
   "metadata": {},
   "outputs": [],
   "source": [
    "rt_gp_user=Data.groupby('userId')['ratings'].count()\n",
    "rt_gp_product=Data.groupby('productId')['ratings'].count()\n",
    "Most_occured_procuct=Data['productId'].value_counts().idxmax()\n",
    "Most_freq_user=Data['userId'].value_counts().idxmax()"
   ]
  },
  {
   "cell_type": "code",
   "execution_count": 21,
   "metadata": {},
   "outputs": [
    {
     "name": "stdout",
     "output_type": "stream",
     "text": [
      "The Max number of ratings we have received for a single product is :18244 & the product ID that has received is :B0074BW614\n",
      "The User :A5JLAU2ARJ0BO has given max number of ratings across products with Number of ratings being:520\n"
     ]
    }
   ],
   "source": [
    "print(\"The Max number of ratings we have received for a single product is :{} & the product ID that has received is :{}\".format(rt_gp_product.max(),Most_occured_procuct))\n",
    "print(\"The User :{} has given max number of ratings across products with Number of ratings being:{}\".format(Most_freq_user,rt_gp_user.max()))"
   ]
  },
  {
   "cell_type": "markdown",
   "metadata": {},
   "source": [
    "Take a subset of the dataset to make it less denser.\n",
    "Identifying number of ratings provided by each user.\n",
    "I am using pandas join and groupby to get the count of number of ratings given by each user.\n",
    "The column ratings_user_count will give the number of ratings provided by the user."
   ]
  },
  {
   "cell_type": "code",
   "execution_count": 22,
   "metadata": {},
   "outputs": [],
   "source": [
    "df=Data.join(Data.groupby('userId')['ratings'].count(),on='userId',rsuffix='_user_count')"
   ]
  },
  {
   "cell_type": "code",
   "execution_count": 23,
   "metadata": {},
   "outputs": [
    {
     "data": {
      "text/html": [
       "<div>\n",
       "<style scoped>\n",
       "    .dataframe tbody tr th:only-of-type {\n",
       "        vertical-align: middle;\n",
       "    }\n",
       "\n",
       "    .dataframe tbody tr th {\n",
       "        vertical-align: top;\n",
       "    }\n",
       "\n",
       "    .dataframe thead th {\n",
       "        text-align: right;\n",
       "    }\n",
       "</style>\n",
       "<table border=\"1\" class=\"dataframe\">\n",
       "  <thead>\n",
       "    <tr style=\"text-align: right;\">\n",
       "      <th></th>\n",
       "      <th>userId</th>\n",
       "      <th>productId</th>\n",
       "      <th>ratings</th>\n",
       "      <th>ratings_user_count</th>\n",
       "    </tr>\n",
       "  </thead>\n",
       "  <tbody>\n",
       "    <tr>\n",
       "      <th>0</th>\n",
       "      <td>AKM1MP6P0OYPR</td>\n",
       "      <td>0132793040</td>\n",
       "      <td>5.0</td>\n",
       "      <td>2</td>\n",
       "    </tr>\n",
       "    <tr>\n",
       "      <th>1</th>\n",
       "      <td>A2CX7LUOHB2NDG</td>\n",
       "      <td>0321732944</td>\n",
       "      <td>5.0</td>\n",
       "      <td>4</td>\n",
       "    </tr>\n",
       "    <tr>\n",
       "      <th>2</th>\n",
       "      <td>A2NWSAGRHCP8N5</td>\n",
       "      <td>0439886341</td>\n",
       "      <td>1.0</td>\n",
       "      <td>1</td>\n",
       "    </tr>\n",
       "    <tr>\n",
       "      <th>3</th>\n",
       "      <td>A2WNBOD3WNDNKT</td>\n",
       "      <td>0439886341</td>\n",
       "      <td>3.0</td>\n",
       "      <td>1</td>\n",
       "    </tr>\n",
       "    <tr>\n",
       "      <th>4</th>\n",
       "      <td>A1GI0U4ZRJA8WN</td>\n",
       "      <td>0439886341</td>\n",
       "      <td>1.0</td>\n",
       "      <td>1</td>\n",
       "    </tr>\n",
       "  </tbody>\n",
       "</table>\n",
       "</div>"
      ],
      "text/plain": [
       "           userId   productId  ratings  ratings_user_count\n",
       "0   AKM1MP6P0OYPR  0132793040      5.0                   2\n",
       "1  A2CX7LUOHB2NDG  0321732944      5.0                   4\n",
       "2  A2NWSAGRHCP8N5  0439886341      1.0                   1\n",
       "3  A2WNBOD3WNDNKT  0439886341      3.0                   1\n",
       "4  A1GI0U4ZRJA8WN  0439886341      1.0                   1"
      ]
     },
     "execution_count": 23,
     "metadata": {},
     "output_type": "execute_result"
    }
   ],
   "source": [
    "df.head()"
   ]
  },
  {
   "cell_type": "markdown",
   "metadata": {},
   "source": [
    "Now, Lets try to make a subset of data. Though we have a large dataset, lets consider ratings provided by user who have rated more than 50 products. The reason being:\n",
    "We may not be able to understand or rely on a user rating with fewer number of representation from the user. For example, if a product has received only a single rating or a user has rated only one product it doesn't give us any variety.\n",
    "Memory consideration, for techinques like SVD, collaborative filtering methods it becomes compuationally complex with the local machines on a high volume dataset.\n",
    "I am creating a function subset , which will count the number of ratings provided by each user and will calssify a user as if he has rated more than 50 ratings or rated less than 50 ratings in a column called Group"
   ]
  },
  {
   "cell_type": "code",
   "execution_count": 24,
   "metadata": {},
   "outputs": [],
   "source": [
    "def subset(row):\n",
    "    if row['ratings_user_count']> 50:\n",
    "        return \"Rated more than 50\"\n",
    "    else:\n",
    "        return \"Rated Less than 50\"\n",
    "df['Group']=df.apply(subset,axis=1)"
   ]
  },
  {
   "cell_type": "code",
   "execution_count": 25,
   "metadata": {},
   "outputs": [
    {
     "data": {
      "text/html": [
       "<div>\n",
       "<style scoped>\n",
       "    .dataframe tbody tr th:only-of-type {\n",
       "        vertical-align: middle;\n",
       "    }\n",
       "\n",
       "    .dataframe tbody tr th {\n",
       "        vertical-align: top;\n",
       "    }\n",
       "\n",
       "    .dataframe thead th {\n",
       "        text-align: right;\n",
       "    }\n",
       "</style>\n",
       "<table border=\"1\" class=\"dataframe\">\n",
       "  <thead>\n",
       "    <tr style=\"text-align: right;\">\n",
       "      <th></th>\n",
       "      <th>userId</th>\n",
       "      <th>productId</th>\n",
       "      <th>ratings</th>\n",
       "      <th>ratings_user_count</th>\n",
       "      <th>Group</th>\n",
       "    </tr>\n",
       "  </thead>\n",
       "  <tbody>\n",
       "    <tr>\n",
       "      <th>7824472</th>\n",
       "      <td>A5FUA9HEV2O42</td>\n",
       "      <td>BT008UKTMW</td>\n",
       "      <td>5.0</td>\n",
       "      <td>1</td>\n",
       "      <td>Rated Less than 50</td>\n",
       "    </tr>\n",
       "    <tr>\n",
       "      <th>7824473</th>\n",
       "      <td>A84WRQR47OOKR</td>\n",
       "      <td>BT008UKTMW</td>\n",
       "      <td>1.0</td>\n",
       "      <td>1</td>\n",
       "      <td>Rated Less than 50</td>\n",
       "    </tr>\n",
       "    <tr>\n",
       "      <th>7824474</th>\n",
       "      <td>A180UGKKYCPDH0</td>\n",
       "      <td>BT008UKTMW</td>\n",
       "      <td>5.0</td>\n",
       "      <td>1</td>\n",
       "      <td>Rated Less than 50</td>\n",
       "    </tr>\n",
       "    <tr>\n",
       "      <th>7824475</th>\n",
       "      <td>A2R6Q6KJCYSVH7</td>\n",
       "      <td>BT008UKTMW</td>\n",
       "      <td>3.0</td>\n",
       "      <td>5</td>\n",
       "      <td>Rated Less than 50</td>\n",
       "    </tr>\n",
       "    <tr>\n",
       "      <th>7824476</th>\n",
       "      <td>A2IGIIABRZ5LAB</td>\n",
       "      <td>BT008UKTMW</td>\n",
       "      <td>5.0</td>\n",
       "      <td>1</td>\n",
       "      <td>Rated Less than 50</td>\n",
       "    </tr>\n",
       "    <tr>\n",
       "      <th>7824477</th>\n",
       "      <td>A2YZI3C9MOHC0L</td>\n",
       "      <td>BT008UKTMW</td>\n",
       "      <td>5.0</td>\n",
       "      <td>2</td>\n",
       "      <td>Rated Less than 50</td>\n",
       "    </tr>\n",
       "    <tr>\n",
       "      <th>7824478</th>\n",
       "      <td>A322MDK0M89RHN</td>\n",
       "      <td>BT008UKTMW</td>\n",
       "      <td>5.0</td>\n",
       "      <td>2</td>\n",
       "      <td>Rated Less than 50</td>\n",
       "    </tr>\n",
       "    <tr>\n",
       "      <th>7824479</th>\n",
       "      <td>A1MH90R0ADMIK0</td>\n",
       "      <td>BT008UKTMW</td>\n",
       "      <td>4.0</td>\n",
       "      <td>19</td>\n",
       "      <td>Rated Less than 50</td>\n",
       "    </tr>\n",
       "    <tr>\n",
       "      <th>7824480</th>\n",
       "      <td>A10M2KEFPEQDHN</td>\n",
       "      <td>BT008UKTMW</td>\n",
       "      <td>4.0</td>\n",
       "      <td>1</td>\n",
       "      <td>Rated Less than 50</td>\n",
       "    </tr>\n",
       "    <tr>\n",
       "      <th>7824481</th>\n",
       "      <td>A2G81TMIOIDEQQ</td>\n",
       "      <td>BT008V9J9U</td>\n",
       "      <td>5.0</td>\n",
       "      <td>11</td>\n",
       "      <td>Rated Less than 50</td>\n",
       "    </tr>\n",
       "  </tbody>\n",
       "</table>\n",
       "</div>"
      ],
      "text/plain": [
       "                 userId   productId  ratings  ratings_user_count  \\\n",
       "7824472   A5FUA9HEV2O42  BT008UKTMW      5.0                   1   \n",
       "7824473   A84WRQR47OOKR  BT008UKTMW      1.0                   1   \n",
       "7824474  A180UGKKYCPDH0  BT008UKTMW      5.0                   1   \n",
       "7824475  A2R6Q6KJCYSVH7  BT008UKTMW      3.0                   5   \n",
       "7824476  A2IGIIABRZ5LAB  BT008UKTMW      5.0                   1   \n",
       "7824477  A2YZI3C9MOHC0L  BT008UKTMW      5.0                   2   \n",
       "7824478  A322MDK0M89RHN  BT008UKTMW      5.0                   2   \n",
       "7824479  A1MH90R0ADMIK0  BT008UKTMW      4.0                  19   \n",
       "7824480  A10M2KEFPEQDHN  BT008UKTMW      4.0                   1   \n",
       "7824481  A2G81TMIOIDEQQ  BT008V9J9U      5.0                  11   \n",
       "\n",
       "                      Group  \n",
       "7824472  Rated Less than 50  \n",
       "7824473  Rated Less than 50  \n",
       "7824474  Rated Less than 50  \n",
       "7824475  Rated Less than 50  \n",
       "7824476  Rated Less than 50  \n",
       "7824477  Rated Less than 50  \n",
       "7824478  Rated Less than 50  \n",
       "7824479  Rated Less than 50  \n",
       "7824480  Rated Less than 50  \n",
       "7824481  Rated Less than 50  "
      ]
     },
     "execution_count": 25,
     "metadata": {},
     "output_type": "execute_result"
    }
   ],
   "source": [
    "df.tail(10)"
   ]
  },
  {
   "cell_type": "code",
   "execution_count": 26,
   "metadata": {},
   "outputs": [
    {
     "name": "stdout",
     "output_type": "stream",
     "text": [
      "Number of users who have more than 50 ratings:122171\n",
      "Number of users who have less than 50 ratings:7702311\n",
      "Our subset is just :1.5613940961203565 % of our total data, However it gives us the data density required with total number of records:122171\n"
     ]
    }
   ],
   "source": [
    "user_more_than_50=df[df['Group']=='Rated more than 50']\n",
    "user_less_than_50=df[df['Group']=='Rated Less than 50']\n",
    "A=user_more_than_50['Group'].count()\n",
    "B=user_less_than_50['Group'].count()\n",
    "print(\"Number of users who have more than 50 ratings:{}\".format(user_more_than_50['Group'].count()))\n",
    "print(\"Number of users who have less than 50 ratings:{}\".format(user_less_than_50['Group'].count()))\n",
    "\n",
    "sub_per=(A/(A+B)) * 100\n",
    "print(\"Our subset is just :{} % of our total data, However it gives us the data density required with total number of records:{}\".format(sub_per,A))"
   ]
  },
  {
   "cell_type": "code",
   "execution_count": 27,
   "metadata": {},
   "outputs": [
    {
     "data": {
      "text/plain": [
       "<matplotlib.axes._subplots.AxesSubplot at 0x28e83b1eec8>"
      ]
     },
     "execution_count": 27,
     "metadata": {},
     "output_type": "execute_result"
    },
    {
     "data": {
      "image/png": "[encoded data removed]",
      "text/plain": [
       "<Figure size 432x288 with 1 Axes>"
      ]
     },
     "metadata": {},
     "output_type": "display_data"
    }
   ],
   "source": [
    "df['Group'].value_counts().plot.pie(shadow=True, startangle=120,autopct='%.2f')"
   ]
  },
  {
   "cell_type": "markdown",
   "metadata": {},
   "source": [
    "Keep the users only who has given 50 or more number of ratings\n",
    "Now, Let's extract the details of users and products who have given more than 50 ratings and store it is a seperate dataframe."
   ]
  },
  {
   "cell_type": "code",
   "execution_count": 28,
   "metadata": {},
   "outputs": [],
   "source": [
    "subset=df[df['Group']=='Rated more than 50']"
   ]
  },
  {
   "cell_type": "code",
   "execution_count": 29,
   "metadata": {},
   "outputs": [
    {
     "data": {
      "text/plain": [
       "(122171, 5)"
      ]
     },
     "execution_count": 29,
     "metadata": {},
     "output_type": "execute_result"
    }
   ],
   "source": [
    "subset.shape"
   ]
  },
  {
   "cell_type": "markdown",
   "metadata": {},
   "source": [
    "Now the subset dataset contains 122171 rows of unique users who have given more than 50 ratings.\n",
    "\n",
    "The below distplot shows the distribution of our subset.\n",
    "\n",
    "If we compare the distribution of original data vs subset, we could see that the distributions are similar for user groups who have rated 5,4. whereas the distribution for ratings 1,2,3 have slightly changed and the peaks looks flat and smooth.\n",
    "\n",
    "This is due to change in the data both in volume and values."
   ]
  },
  {
   "cell_type": "code",
   "execution_count": 30,
   "metadata": {},
   "outputs": [
    {
     "data": {
      "image/png": "[encoded data removed]",
      "text/plain": [
       "<Figure size 1080x360 with 1 Axes>"
      ]
     },
     "metadata": {
      "needs_background": "light"
     },
     "output_type": "display_data"
    }
   ],
   "source": [
    "plt.figure(figsize=(15,5))\n",
    "sns.distplot(subset['ratings']);"
   ]
  },
  {
   "cell_type": "code",
   "execution_count": 31,
   "metadata": {},
   "outputs": [],
   "source": [
    "#exporting the subset to csv \n",
    "subset.to_csv('subset_morethan_50ratings.csv')"
   ]
  },
  {
   "cell_type": "code",
   "execution_count": 32,
   "metadata": {},
   "outputs": [],
   "source": [
    "subset_with_number_of_ratings=subset.join(subset.groupby('productId')['ratings'].count(),on='productId',rsuffix='_product_count')"
   ]
  },
  {
   "cell_type": "code",
   "execution_count": 33,
   "metadata": {},
   "outputs": [
    {
     "data": {
      "text/html": [
       "<div>\n",
       "<style scoped>\n",
       "    .dataframe tbody tr th:only-of-type {\n",
       "        vertical-align: middle;\n",
       "    }\n",
       "\n",
       "    .dataframe tbody tr th {\n",
       "        vertical-align: top;\n",
       "    }\n",
       "\n",
       "    .dataframe thead th {\n",
       "        text-align: right;\n",
       "    }\n",
       "</style>\n",
       "<table border=\"1\" class=\"dataframe\">\n",
       "  <thead>\n",
       "    <tr style=\"text-align: right;\">\n",
       "      <th></th>\n",
       "      <th>userId</th>\n",
       "      <th>productId</th>\n",
       "      <th>ratings</th>\n",
       "      <th>ratings_user_count</th>\n",
       "      <th>Group</th>\n",
       "      <th>ratings_product_count</th>\n",
       "    </tr>\n",
       "  </thead>\n",
       "  <tbody>\n",
       "    <tr>\n",
       "      <th>118</th>\n",
       "      <td>AT09WGFUM934H</td>\n",
       "      <td>0594481813</td>\n",
       "      <td>3.0</td>\n",
       "      <td>110</td>\n",
       "      <td>Rated more than 50</td>\n",
       "      <td>1</td>\n",
       "    </tr>\n",
       "    <tr>\n",
       "      <th>177</th>\n",
       "      <td>A32HSNCNPRUMTR</td>\n",
       "      <td>0970407998</td>\n",
       "      <td>1.0</td>\n",
       "      <td>72</td>\n",
       "      <td>Rated more than 50</td>\n",
       "      <td>2</td>\n",
       "    </tr>\n",
       "    <tr>\n",
       "      <th>178</th>\n",
       "      <td>A17HMM1M7T9PJ1</td>\n",
       "      <td>0970407998</td>\n",
       "      <td>4.0</td>\n",
       "      <td>151</td>\n",
       "      <td>Rated more than 50</td>\n",
       "      <td>2</td>\n",
       "    </tr>\n",
       "    <tr>\n",
       "      <th>492</th>\n",
       "      <td>A3CLWR1UUZT6TG</td>\n",
       "      <td>0972683275</td>\n",
       "      <td>5.0</td>\n",
       "      <td>58</td>\n",
       "      <td>Rated more than 50</td>\n",
       "      <td>3</td>\n",
       "    </tr>\n",
       "    <tr>\n",
       "      <th>631</th>\n",
       "      <td>A3TAS1AG6FMBQW</td>\n",
       "      <td>0972683275</td>\n",
       "      <td>5.0</td>\n",
       "      <td>163</td>\n",
       "      <td>Rated more than 50</td>\n",
       "      <td>3</td>\n",
       "    </tr>\n",
       "  </tbody>\n",
       "</table>\n",
       "</div>"
      ],
      "text/plain": [
       "             userId   productId  ratings  ratings_user_count  \\\n",
       "118   AT09WGFUM934H  0594481813      3.0                 110   \n",
       "177  A32HSNCNPRUMTR  0970407998      1.0                  72   \n",
       "178  A17HMM1M7T9PJ1  0970407998      4.0                 151   \n",
       "492  A3CLWR1UUZT6TG  0972683275      5.0                  58   \n",
       "631  A3TAS1AG6FMBQW  0972683275      5.0                 163   \n",
       "\n",
       "                  Group  ratings_product_count  \n",
       "118  Rated more than 50                      1  \n",
       "177  Rated more than 50                      2  \n",
       "178  Rated more than 50                      2  \n",
       "492  Rated more than 50                      3  \n",
       "631  Rated more than 50                      3  "
      ]
     },
     "execution_count": 33,
     "metadata": {},
     "output_type": "execute_result"
    }
   ],
   "source": [
    "subset_with_number_of_ratings.head()"
   ]
  },
  {
   "cell_type": "markdown",
   "metadata": {},
   "source": [
    "Adding one more column \"ratings_product_count\" this will give the count of how many ratings the specific product ID has received.\n",
    "\n",
    "In popularity based recommendation , we will use this detail to give more insights to the user about the product.\n",
    "\n",
    "How to read the above dataframe?\n",
    "\n",
    "\"The product 0594481813 has a rating of 3.0 and has received only one rating by a user AT09WGFUM934H who has rated 110 other products in our subset\".\n",
    "\n"
   ]
  },
  {
   "cell_type": "markdown",
   "metadata": {},
   "source": [
    "# Popularity Recommender model\n",
    "Having built the dataset with our required columns, we can now build our popularity based recommender system.\n",
    "\n",
    "# What is popularity based recommender system?\n",
    "It is the simplest recommendation model that works on principle of popularity that identifies the products that are popular among users. This will give the users recommendation of products that are in trend, high in demand and are bought by users."
   ]
  },
  {
   "cell_type": "code",
   "execution_count": 34,
   "metadata": {},
   "outputs": [],
   "source": [
    "#Lets drop the columns userId and group \n",
    "Popularity_based_Recommendadtion=subset_with_number_of_ratings.drop(['userId','Group'],axis=1)"
   ]
  },
  {
   "cell_type": "markdown",
   "metadata": {},
   "source": [
    "Popularity based on user rating and number of ratings received by each product."
   ]
  },
  {
   "cell_type": "code",
   "execution_count": 35,
   "metadata": {},
   "outputs": [
    {
     "data": {
      "text/plain": [
       "(122171, 4)"
      ]
     },
     "execution_count": 35,
     "metadata": {},
     "output_type": "execute_result"
    }
   ],
   "source": [
    "Popularity_based_Recommendadtion.shape"
   ]
  },
  {
   "cell_type": "code",
   "execution_count": 36,
   "metadata": {},
   "outputs": [],
   "source": [
    "PRS_Product_rated_count=pd.DataFrame(Popularity_based_Recommendadtion.groupby('productId')['ratings','ratings_product_count'].mean().sort_values(by='ratings_product_count',ascending=False))"
   ]
  },
  {
   "cell_type": "markdown",
   "metadata": {},
   "source": [
    "I have now created a dataframe that lists the products, its ratings and how many ratings the product has received and sorted based on number of ratings received."
   ]
  },
  {
   "cell_type": "code",
   "execution_count": 37,
   "metadata": {},
   "outputs": [
    {
     "data": {
      "text/html": [
       "<div>\n",
       "<style scoped>\n",
       "    .dataframe tbody tr th:only-of-type {\n",
       "        vertical-align: middle;\n",
       "    }\n",
       "\n",
       "    .dataframe tbody tr th {\n",
       "        vertical-align: top;\n",
       "    }\n",
       "\n",
       "    .dataframe thead th {\n",
       "        text-align: right;\n",
       "    }\n",
       "</style>\n",
       "<table border=\"1\" class=\"dataframe\">\n",
       "  <thead>\n",
       "    <tr style=\"text-align: right;\">\n",
       "      <th></th>\n",
       "      <th>ratings</th>\n",
       "      <th>ratings_product_count</th>\n",
       "    </tr>\n",
       "    <tr>\n",
       "      <th>productId</th>\n",
       "      <th></th>\n",
       "      <th></th>\n",
       "    </tr>\n",
       "  </thead>\n",
       "  <tbody>\n",
       "    <tr>\n",
       "      <th>B0088CJT4U</th>\n",
       "      <td>4.215686</td>\n",
       "      <td>204</td>\n",
       "    </tr>\n",
       "    <tr>\n",
       "      <th>B003ES5ZUU</th>\n",
       "      <td>4.858757</td>\n",
       "      <td>177</td>\n",
       "    </tr>\n",
       "    <tr>\n",
       "      <th>B000N99BBC</th>\n",
       "      <td>4.773006</td>\n",
       "      <td>163</td>\n",
       "    </tr>\n",
       "    <tr>\n",
       "      <th>B007WTAJTO</th>\n",
       "      <td>4.692308</td>\n",
       "      <td>156</td>\n",
       "    </tr>\n",
       "    <tr>\n",
       "      <th>B00829TIEK</th>\n",
       "      <td>4.431507</td>\n",
       "      <td>146</td>\n",
       "    </tr>\n",
       "    <tr>\n",
       "      <th>B008DWCRQW</th>\n",
       "      <td>4.088889</td>\n",
       "      <td>135</td>\n",
       "    </tr>\n",
       "    <tr>\n",
       "      <th>B00829THK0</th>\n",
       "      <td>4.409091</td>\n",
       "      <td>132</td>\n",
       "    </tr>\n",
       "    <tr>\n",
       "      <th>B002R5AM7C</th>\n",
       "      <td>4.118110</td>\n",
       "      <td>127</td>\n",
       "    </tr>\n",
       "    <tr>\n",
       "      <th>B004CLYEDC</th>\n",
       "      <td>4.666667</td>\n",
       "      <td>117</td>\n",
       "    </tr>\n",
       "    <tr>\n",
       "      <th>B004T9RR6I</th>\n",
       "      <td>3.870370</td>\n",
       "      <td>108</td>\n",
       "    </tr>\n",
       "  </tbody>\n",
       "</table>\n",
       "</div>"
      ],
      "text/plain": [
       "             ratings  ratings_product_count\n",
       "productId                                  \n",
       "B0088CJT4U  4.215686                    204\n",
       "B003ES5ZUU  4.858757                    177\n",
       "B000N99BBC  4.773006                    163\n",
       "B007WTAJTO  4.692308                    156\n",
       "B00829TIEK  4.431507                    146\n",
       "B008DWCRQW  4.088889                    135\n",
       "B00829THK0  4.409091                    132\n",
       "B002R5AM7C  4.118110                    127\n",
       "B004CLYEDC  4.666667                    117\n",
       "B004T9RR6I  3.870370                    108"
      ]
     },
     "execution_count": 37,
     "metadata": {},
     "output_type": "execute_result"
    }
   ],
   "source": [
    "#Top 10 products based on number of ratings the product has received \n",
    "PRS_Product_rated_count.head(10)"
   ]
  },
  {
   "cell_type": "markdown",
   "metadata": {},
   "source": [
    "Popularity based on user rating"
   ]
  },
  {
   "cell_type": "code",
   "execution_count": 38,
   "metadata": {},
   "outputs": [],
   "source": [
    "PRS_by_Rating=pd.DataFrame(Popularity_based_Recommendadtion.groupby('productId')['ratings','ratings_product_count'].mean().sort_values(by='ratings',ascending=False))"
   ]
  },
  {
   "cell_type": "markdown",
   "metadata": {},
   "source": [
    "I have now created a dataframe that lists the products, sorted based on rating and how many ratings the product has received and sorted based on user ratings"
   ]
  },
  {
   "cell_type": "code",
   "execution_count": 39,
   "metadata": {},
   "outputs": [
    {
     "data": {
      "text/html": [
       "<div>\n",
       "<style scoped>\n",
       "    .dataframe tbody tr th:only-of-type {\n",
       "        vertical-align: middle;\n",
       "    }\n",
       "\n",
       "    .dataframe tbody tr th {\n",
       "        vertical-align: top;\n",
       "    }\n",
       "\n",
       "    .dataframe thead th {\n",
       "        text-align: right;\n",
       "    }\n",
       "</style>\n",
       "<table border=\"1\" class=\"dataframe\">\n",
       "  <thead>\n",
       "    <tr style=\"text-align: right;\">\n",
       "      <th></th>\n",
       "      <th>ratings</th>\n",
       "      <th>ratings_product_count</th>\n",
       "    </tr>\n",
       "    <tr>\n",
       "      <th>productId</th>\n",
       "      <th></th>\n",
       "      <th></th>\n",
       "    </tr>\n",
       "  </thead>\n",
       "  <tbody>\n",
       "    <tr>\n",
       "      <th>B00LKG1MC8</th>\n",
       "      <td>5.0</td>\n",
       "      <td>1</td>\n",
       "    </tr>\n",
       "    <tr>\n",
       "      <th>B001UE6HZ2</th>\n",
       "      <td>5.0</td>\n",
       "      <td>1</td>\n",
       "    </tr>\n",
       "    <tr>\n",
       "      <th>B001UKJ8FC</th>\n",
       "      <td>5.0</td>\n",
       "      <td>1</td>\n",
       "    </tr>\n",
       "    <tr>\n",
       "      <th>B001UK6UO4</th>\n",
       "      <td>5.0</td>\n",
       "      <td>1</td>\n",
       "    </tr>\n",
       "    <tr>\n",
       "      <th>B0082N9DGY</th>\n",
       "      <td>5.0</td>\n",
       "      <td>1</td>\n",
       "    </tr>\n",
       "    <tr>\n",
       "      <th>B0082N9E9U</th>\n",
       "      <td>5.0</td>\n",
       "      <td>1</td>\n",
       "    </tr>\n",
       "    <tr>\n",
       "      <th>B001UJJNNA</th>\n",
       "      <td>5.0</td>\n",
       "      <td>1</td>\n",
       "    </tr>\n",
       "    <tr>\n",
       "      <th>B001UIPV28</th>\n",
       "      <td>5.0</td>\n",
       "      <td>1</td>\n",
       "    </tr>\n",
       "    <tr>\n",
       "      <th>B001UIHAOK</th>\n",
       "      <td>5.0</td>\n",
       "      <td>1</td>\n",
       "    </tr>\n",
       "    <tr>\n",
       "      <th>B0082PZ0LO</th>\n",
       "      <td>5.0</td>\n",
       "      <td>1</td>\n",
       "    </tr>\n",
       "  </tbody>\n",
       "</table>\n",
       "</div>"
      ],
      "text/plain": [
       "            ratings  ratings_product_count\n",
       "productId                                 \n",
       "B00LKG1MC8      5.0                      1\n",
       "B001UE6HZ2      5.0                      1\n",
       "B001UKJ8FC      5.0                      1\n",
       "B001UK6UO4      5.0                      1\n",
       "B0082N9DGY      5.0                      1\n",
       "B0082N9E9U      5.0                      1\n",
       "B001UJJNNA      5.0                      1\n",
       "B001UIPV28      5.0                      1\n",
       "B001UIHAOK      5.0                      1\n",
       "B0082PZ0LO      5.0                      1"
      ]
     },
     "execution_count": 39,
     "metadata": {},
     "output_type": "execute_result"
    }
   ],
   "source": [
    "#Top 10 products based on top rating received by the product  \n",
    "PRS_by_Rating.head(10)"
   ]
  },
  {
   "cell_type": "markdown",
   "metadata": {},
   "source": [
    "Both the above systems give the user top rated products. The table 2 though shows the products which have been rated the best but the number of ratings it has received is just 1.\n",
    "However the table 1 gives more credibility as it recommends the products based on number of users who have rated the product and not just products that have just been rated high\n",
    "Now, We will get the number of ratings for each scale between 1 to 5 for each product and make it as a dataframe"
   ]
  },
  {
   "cell_type": "code",
   "execution_count": 40,
   "metadata": {},
   "outputs": [],
   "source": [
    "S=pd.DataFrame(subset.groupby('productId')['ratings'].value_counts().unstack().fillna(0))"
   ]
  },
  {
   "cell_type": "code",
   "execution_count": 41,
   "metadata": {},
   "outputs": [
    {
     "data": {
      "text/html": [
       "<div>\n",
       "<style scoped>\n",
       "    .dataframe tbody tr th:only-of-type {\n",
       "        vertical-align: middle;\n",
       "    }\n",
       "\n",
       "    .dataframe tbody tr th {\n",
       "        vertical-align: top;\n",
       "    }\n",
       "\n",
       "    .dataframe thead th {\n",
       "        text-align: right;\n",
       "    }\n",
       "</style>\n",
       "<table border=\"1\" class=\"dataframe\">\n",
       "  <thead>\n",
       "    <tr style=\"text-align: right;\">\n",
       "      <th>ratings</th>\n",
       "      <th>1.0</th>\n",
       "      <th>2.0</th>\n",
       "      <th>3.0</th>\n",
       "      <th>4.0</th>\n",
       "      <th>5.0</th>\n",
       "    </tr>\n",
       "    <tr>\n",
       "      <th>productId</th>\n",
       "      <th></th>\n",
       "      <th></th>\n",
       "      <th></th>\n",
       "      <th></th>\n",
       "      <th></th>\n",
       "    </tr>\n",
       "  </thead>\n",
       "  <tbody>\n",
       "    <tr>\n",
       "      <th>0594481813</th>\n",
       "      <td>0.0</td>\n",
       "      <td>0.0</td>\n",
       "      <td>1.0</td>\n",
       "      <td>0.0</td>\n",
       "      <td>0.0</td>\n",
       "    </tr>\n",
       "    <tr>\n",
       "      <th>0970407998</th>\n",
       "      <td>1.0</td>\n",
       "      <td>0.0</td>\n",
       "      <td>0.0</td>\n",
       "      <td>1.0</td>\n",
       "      <td>0.0</td>\n",
       "    </tr>\n",
       "    <tr>\n",
       "      <th>0972683275</th>\n",
       "      <td>0.0</td>\n",
       "      <td>0.0</td>\n",
       "      <td>0.0</td>\n",
       "      <td>0.0</td>\n",
       "      <td>3.0</td>\n",
       "    </tr>\n",
       "    <tr>\n",
       "      <th>1400501466</th>\n",
       "      <td>2.0</td>\n",
       "      <td>0.0</td>\n",
       "      <td>1.0</td>\n",
       "      <td>0.0</td>\n",
       "      <td>2.0</td>\n",
       "    </tr>\n",
       "    <tr>\n",
       "      <th>1400501520</th>\n",
       "      <td>0.0</td>\n",
       "      <td>0.0</td>\n",
       "      <td>0.0</td>\n",
       "      <td>0.0</td>\n",
       "      <td>1.0</td>\n",
       "    </tr>\n",
       "    <tr>\n",
       "      <th>...</th>\n",
       "      <td>...</td>\n",
       "      <td>...</td>\n",
       "      <td>...</td>\n",
       "      <td>...</td>\n",
       "      <td>...</td>\n",
       "    </tr>\n",
       "    <tr>\n",
       "      <th>B00LED02VY</th>\n",
       "      <td>0.0</td>\n",
       "      <td>0.0</td>\n",
       "      <td>0.0</td>\n",
       "      <td>1.0</td>\n",
       "      <td>0.0</td>\n",
       "    </tr>\n",
       "    <tr>\n",
       "      <th>B00LGN7Y3G</th>\n",
       "      <td>0.0</td>\n",
       "      <td>0.0</td>\n",
       "      <td>0.0</td>\n",
       "      <td>0.0</td>\n",
       "      <td>1.0</td>\n",
       "    </tr>\n",
       "    <tr>\n",
       "      <th>B00LGQ6HL8</th>\n",
       "      <td>0.0</td>\n",
       "      <td>0.0</td>\n",
       "      <td>0.0</td>\n",
       "      <td>0.0</td>\n",
       "      <td>5.0</td>\n",
       "    </tr>\n",
       "    <tr>\n",
       "      <th>B00LI4ZZO8</th>\n",
       "      <td>0.0</td>\n",
       "      <td>0.0</td>\n",
       "      <td>0.0</td>\n",
       "      <td>1.0</td>\n",
       "      <td>1.0</td>\n",
       "    </tr>\n",
       "    <tr>\n",
       "      <th>B00LKG1MC8</th>\n",
       "      <td>0.0</td>\n",
       "      <td>0.0</td>\n",
       "      <td>0.0</td>\n",
       "      <td>0.0</td>\n",
       "      <td>1.0</td>\n",
       "    </tr>\n",
       "  </tbody>\n",
       "</table>\n",
       "<p>47155 rows × 5 columns</p>\n",
       "</div>"
      ],
      "text/plain": [
       "ratings     1.0  2.0  3.0  4.0  5.0\n",
       "productId                          \n",
       "0594481813  0.0  0.0  1.0  0.0  0.0\n",
       "0970407998  1.0  0.0  0.0  1.0  0.0\n",
       "0972683275  0.0  0.0  0.0  0.0  3.0\n",
       "1400501466  2.0  0.0  1.0  0.0  2.0\n",
       "1400501520  0.0  0.0  0.0  0.0  1.0\n",
       "...         ...  ...  ...  ...  ...\n",
       "B00LED02VY  0.0  0.0  0.0  1.0  0.0\n",
       "B00LGN7Y3G  0.0  0.0  0.0  0.0  1.0\n",
       "B00LGQ6HL8  0.0  0.0  0.0  0.0  5.0\n",
       "B00LI4ZZO8  0.0  0.0  0.0  1.0  1.0\n",
       "B00LKG1MC8  0.0  0.0  0.0  0.0  1.0\n",
       "\n",
       "[47155 rows x 5 columns]"
      ]
     },
     "execution_count": 41,
     "metadata": {},
     "output_type": "execute_result"
    }
   ],
   "source": [
    "S"
   ]
  },
  {
   "cell_type": "markdown",
   "metadata": {},
   "source": [
    "Rating count for each scale\n",
    "Now lets further try to enhance the Table 1 with recommendations to users with how many ratings have been given by users for each product on a scale of 1 to 5 along with product rating & product rating count."
   ]
  },
  {
   "cell_type": "code",
   "execution_count": 42,
   "metadata": {},
   "outputs": [],
   "source": [
    "Popularity_Final=pd.merge(PRS_Product_rated_count,S,on='productId')"
   ]
  },
  {
   "cell_type": "code",
   "execution_count": 43,
   "metadata": {},
   "outputs": [
    {
     "data": {
      "text/html": [
       "<div>\n",
       "<style scoped>\n",
       "    .dataframe tbody tr th:only-of-type {\n",
       "        vertical-align: middle;\n",
       "    }\n",
       "\n",
       "    .dataframe tbody tr th {\n",
       "        vertical-align: top;\n",
       "    }\n",
       "\n",
       "    .dataframe thead th {\n",
       "        text-align: right;\n",
       "    }\n",
       "</style>\n",
       "<table border=\"1\" class=\"dataframe\">\n",
       "  <thead>\n",
       "    <tr style=\"text-align: right;\">\n",
       "      <th></th>\n",
       "      <th>ratings</th>\n",
       "      <th>ratings_product_count</th>\n",
       "      <th>1.0</th>\n",
       "      <th>2.0</th>\n",
       "      <th>3.0</th>\n",
       "      <th>4.0</th>\n",
       "      <th>5.0</th>\n",
       "    </tr>\n",
       "    <tr>\n",
       "      <th>productId</th>\n",
       "      <th></th>\n",
       "      <th></th>\n",
       "      <th></th>\n",
       "      <th></th>\n",
       "      <th></th>\n",
       "      <th></th>\n",
       "      <th></th>\n",
       "    </tr>\n",
       "  </thead>\n",
       "  <tbody>\n",
       "    <tr>\n",
       "      <th>B0088CJT4U</th>\n",
       "      <td>4.215686</td>\n",
       "      <td>204</td>\n",
       "      <td>2.0</td>\n",
       "      <td>8.0</td>\n",
       "      <td>24.0</td>\n",
       "      <td>80.0</td>\n",
       "      <td>90.0</td>\n",
       "    </tr>\n",
       "    <tr>\n",
       "      <th>B003ES5ZUU</th>\n",
       "      <td>4.858757</td>\n",
       "      <td>177</td>\n",
       "      <td>0.0</td>\n",
       "      <td>2.0</td>\n",
       "      <td>2.0</td>\n",
       "      <td>15.0</td>\n",
       "      <td>158.0</td>\n",
       "    </tr>\n",
       "    <tr>\n",
       "      <th>B000N99BBC</th>\n",
       "      <td>4.773006</td>\n",
       "      <td>163</td>\n",
       "      <td>0.0</td>\n",
       "      <td>0.0</td>\n",
       "      <td>5.0</td>\n",
       "      <td>27.0</td>\n",
       "      <td>131.0</td>\n",
       "    </tr>\n",
       "    <tr>\n",
       "      <th>B007WTAJTO</th>\n",
       "      <td>4.692308</td>\n",
       "      <td>156</td>\n",
       "      <td>5.0</td>\n",
       "      <td>1.0</td>\n",
       "      <td>3.0</td>\n",
       "      <td>19.0</td>\n",
       "      <td>128.0</td>\n",
       "    </tr>\n",
       "    <tr>\n",
       "      <th>B00829TIEK</th>\n",
       "      <td>4.431507</td>\n",
       "      <td>146</td>\n",
       "      <td>4.0</td>\n",
       "      <td>3.0</td>\n",
       "      <td>4.0</td>\n",
       "      <td>50.0</td>\n",
       "      <td>85.0</td>\n",
       "    </tr>\n",
       "    <tr>\n",
       "      <th>B008DWCRQW</th>\n",
       "      <td>4.088889</td>\n",
       "      <td>135</td>\n",
       "      <td>4.0</td>\n",
       "      <td>5.0</td>\n",
       "      <td>18.0</td>\n",
       "      <td>56.0</td>\n",
       "      <td>52.0</td>\n",
       "    </tr>\n",
       "    <tr>\n",
       "      <th>B00829THK0</th>\n",
       "      <td>4.409091</td>\n",
       "      <td>132</td>\n",
       "      <td>3.0</td>\n",
       "      <td>5.0</td>\n",
       "      <td>5.0</td>\n",
       "      <td>41.0</td>\n",
       "      <td>78.0</td>\n",
       "    </tr>\n",
       "    <tr>\n",
       "      <th>B002R5AM7C</th>\n",
       "      <td>4.118110</td>\n",
       "      <td>127</td>\n",
       "      <td>1.0</td>\n",
       "      <td>3.0</td>\n",
       "      <td>23.0</td>\n",
       "      <td>53.0</td>\n",
       "      <td>47.0</td>\n",
       "    </tr>\n",
       "    <tr>\n",
       "      <th>B004CLYEDC</th>\n",
       "      <td>4.666667</td>\n",
       "      <td>117</td>\n",
       "      <td>0.0</td>\n",
       "      <td>0.0</td>\n",
       "      <td>3.0</td>\n",
       "      <td>33.0</td>\n",
       "      <td>81.0</td>\n",
       "    </tr>\n",
       "    <tr>\n",
       "      <th>B004T9RR6I</th>\n",
       "      <td>3.870370</td>\n",
       "      <td>108</td>\n",
       "      <td>11.0</td>\n",
       "      <td>5.0</td>\n",
       "      <td>17.0</td>\n",
       "      <td>29.0</td>\n",
       "      <td>46.0</td>\n",
       "    </tr>\n",
       "    <tr>\n",
       "      <th>B002SZEOLG</th>\n",
       "      <td>4.287037</td>\n",
       "      <td>108</td>\n",
       "      <td>3.0</td>\n",
       "      <td>5.0</td>\n",
       "      <td>9.0</td>\n",
       "      <td>32.0</td>\n",
       "      <td>59.0</td>\n",
       "    </tr>\n",
       "    <tr>\n",
       "      <th>B00834SJNA</th>\n",
       "      <td>4.495327</td>\n",
       "      <td>107</td>\n",
       "      <td>3.0</td>\n",
       "      <td>2.0</td>\n",
       "      <td>3.0</td>\n",
       "      <td>30.0</td>\n",
       "      <td>69.0</td>\n",
       "    </tr>\n",
       "    <tr>\n",
       "      <th>B0034CL2ZI</th>\n",
       "      <td>4.628571</td>\n",
       "      <td>105</td>\n",
       "      <td>0.0</td>\n",
       "      <td>2.0</td>\n",
       "      <td>4.0</td>\n",
       "      <td>25.0</td>\n",
       "      <td>74.0</td>\n",
       "    </tr>\n",
       "    <tr>\n",
       "      <th>B002V88HFE</th>\n",
       "      <td>4.702970</td>\n",
       "      <td>101</td>\n",
       "      <td>1.0</td>\n",
       "      <td>2.0</td>\n",
       "      <td>1.0</td>\n",
       "      <td>18.0</td>\n",
       "      <td>79.0</td>\n",
       "    </tr>\n",
       "    <tr>\n",
       "      <th>B00834SJSK</th>\n",
       "      <td>4.640000</td>\n",
       "      <td>100</td>\n",
       "      <td>1.0</td>\n",
       "      <td>1.0</td>\n",
       "      <td>2.0</td>\n",
       "      <td>25.0</td>\n",
       "      <td>71.0</td>\n",
       "    </tr>\n",
       "  </tbody>\n",
       "</table>\n",
       "</div>"
      ],
      "text/plain": [
       "             ratings  ratings_product_count   1.0  2.0   3.0   4.0    5.0\n",
       "productId                                                                \n",
       "B0088CJT4U  4.215686                    204   2.0  8.0  24.0  80.0   90.0\n",
       "B003ES5ZUU  4.858757                    177   0.0  2.0   2.0  15.0  158.0\n",
       "B000N99BBC  4.773006                    163   0.0  0.0   5.0  27.0  131.0\n",
       "B007WTAJTO  4.692308                    156   5.0  1.0   3.0  19.0  128.0\n",
       "B00829TIEK  4.431507                    146   4.0  3.0   4.0  50.0   85.0\n",
       "B008DWCRQW  4.088889                    135   4.0  5.0  18.0  56.0   52.0\n",
       "B00829THK0  4.409091                    132   3.0  5.0   5.0  41.0   78.0\n",
       "B002R5AM7C  4.118110                    127   1.0  3.0  23.0  53.0   47.0\n",
       "B004CLYEDC  4.666667                    117   0.0  0.0   3.0  33.0   81.0\n",
       "B004T9RR6I  3.870370                    108  11.0  5.0  17.0  29.0   46.0\n",
       "B002SZEOLG  4.287037                    108   3.0  5.0   9.0  32.0   59.0\n",
       "B00834SJNA  4.495327                    107   3.0  2.0   3.0  30.0   69.0\n",
       "B0034CL2ZI  4.628571                    105   0.0  2.0   4.0  25.0   74.0\n",
       "B002V88HFE  4.702970                    101   1.0  2.0   1.0  18.0   79.0\n",
       "B00834SJSK  4.640000                    100   1.0  1.0   2.0  25.0   71.0"
      ]
     },
     "execution_count": 43,
     "metadata": {},
     "output_type": "execute_result"
    }
   ],
   "source": [
    "Popularity_Final.nlargest(15,'ratings_product_count')"
   ]
  },
  {
   "cell_type": "markdown",
   "metadata": {},
   "source": [
    "TOP 5 Recommendations from each model\n",
    "Popularity Based Recommendation"
   ]
  },
  {
   "cell_type": "code",
   "execution_count": 44,
   "metadata": {},
   "outputs": [
    {
     "name": "stdout",
     "output_type": "stream",
     "text": [
      "The top 5 products that we recommend using popularity based recommendation:\n",
      "             ratings  ratings_product_count  1.0  2.0   3.0   4.0    5.0\n",
      "productId                                                               \n",
      "B0088CJT4U  4.215686                    204  2.0  8.0  24.0  80.0   90.0\n",
      "B003ES5ZUU  4.858757                    177  0.0  2.0   2.0  15.0  158.0\n",
      "B000N99BBC  4.773006                    163  0.0  0.0   5.0  27.0  131.0\n",
      "B007WTAJTO  4.692308                    156  5.0  1.0   3.0  19.0  128.0\n",
      "B00829TIEK  4.431507                    146  4.0  3.0   4.0  50.0   85.0\n"
     ]
    }
   ],
   "source": [
    "print(\"The top 5 products that we recommend using popularity based recommendation:\")\n",
    "print(Popularity_Final.nlargest(5,'ratings_product_count'))"
   ]
  },
  {
   "cell_type": "markdown",
   "metadata": {},
   "source": [
    "# So, above is the popularity based recommendation that we have created and we are highlighting the top 5 products that are popular among users along with average rating, number of ratings the product has received and its splitup on number of rating for each scale between 1 to 5.\n",
    "# Advantages of Popularity based recommendation:\n",
    "1. Computationally easy, Less complex.\n",
    "2. No user charecterstics is required , hence does not suffer from cold start problem.\n",
    "3. Can be made available to the user from day 1 of starting business.\n",
    "# Disadvantages:\n",
    "1. There is no variety in the recommendadtion.\n",
    "2. No personalization in the recommendation either. Irrespective of what the user might be interested the model recommends the same set of prodcut to every user."
   ]
  },
  {
   "cell_type": "markdown",
   "metadata": {},
   "source": [
    "# Collaborative Filtering model\n",
    "This method of recommendadtion overcomes the shortfall of popularity based recommendation systems.\n",
    "Collaborative filtering works on the similarity between different users or similarity between items.The similarity could be used to recommend the products based on user or item behaviour.\n",
    "\n",
    "Couple of methods to implement Collaborative filtering :\n",
    "\n",
    "1. Matrix Factorization using Singular value decomposition\n",
    "2. Nearest Neighbour collaborative filtering (User based)\n",
    "3. Nearest Neighbour collaborative filtering (Item based)"
   ]
  },
  {
   "cell_type": "markdown",
   "metadata": {},
   "source": [
    "# Matrix Factorization using Singular value decomposition\n",
    "Matrix Factorization is used to identify/predict what rating will a specific user give for a given product based on the previous ratings he has provided to other items.\n",
    "How is this done ?\n",
    "1. The user & item data is first made avaiable as a matrix. Product and user charecterstics is computed for each user and each item.\n",
    "2. Dot product of these charectersics will give the predictions for each user for each item in the matrix.\n",
    "3. Now since we have the actual and the predicted data the algorithm will further use gradient descent to find the minimal error to predict the closest possible rating for the user.\n",
    "We will use singular value decomposition from Surprise Library to implement this in python.\n",
    "The name surprise stands for \"Simple Python RecommendatIon System Engine\"\n",
    "\n",
    "Lets import SVD , Dataset and reader from surprise to read the dataset in surprise format."
   ]
  },
  {
   "cell_type": "code",
   "execution_count": 45,
   "metadata": {},
   "outputs": [],
   "source": [
    "from surprise import SVD\n",
    "from surprise import Dataset\n",
    "from surprise import Reader"
   ]
  },
  {
   "cell_type": "code",
   "execution_count": 46,
   "metadata": {},
   "outputs": [
    {
     "data": {
      "text/html": [
       "<div>\n",
       "<style scoped>\n",
       "    .dataframe tbody tr th:only-of-type {\n",
       "        vertical-align: middle;\n",
       "    }\n",
       "\n",
       "    .dataframe tbody tr th {\n",
       "        vertical-align: top;\n",
       "    }\n",
       "\n",
       "    .dataframe thead th {\n",
       "        text-align: right;\n",
       "    }\n",
       "</style>\n",
       "<table border=\"1\" class=\"dataframe\">\n",
       "  <thead>\n",
       "    <tr style=\"text-align: right;\">\n",
       "      <th></th>\n",
       "      <th>userId</th>\n",
       "      <th>productId</th>\n",
       "      <th>ratings</th>\n",
       "      <th>ratings_user_count</th>\n",
       "      <th>Group</th>\n",
       "    </tr>\n",
       "  </thead>\n",
       "  <tbody>\n",
       "    <tr>\n",
       "      <th>118</th>\n",
       "      <td>AT09WGFUM934H</td>\n",
       "      <td>0594481813</td>\n",
       "      <td>3.0</td>\n",
       "      <td>110</td>\n",
       "      <td>Rated more than 50</td>\n",
       "    </tr>\n",
       "    <tr>\n",
       "      <th>177</th>\n",
       "      <td>A32HSNCNPRUMTR</td>\n",
       "      <td>0970407998</td>\n",
       "      <td>1.0</td>\n",
       "      <td>72</td>\n",
       "      <td>Rated more than 50</td>\n",
       "    </tr>\n",
       "    <tr>\n",
       "      <th>178</th>\n",
       "      <td>A17HMM1M7T9PJ1</td>\n",
       "      <td>0970407998</td>\n",
       "      <td>4.0</td>\n",
       "      <td>151</td>\n",
       "      <td>Rated more than 50</td>\n",
       "    </tr>\n",
       "    <tr>\n",
       "      <th>492</th>\n",
       "      <td>A3CLWR1UUZT6TG</td>\n",
       "      <td>0972683275</td>\n",
       "      <td>5.0</td>\n",
       "      <td>58</td>\n",
       "      <td>Rated more than 50</td>\n",
       "    </tr>\n",
       "    <tr>\n",
       "      <th>631</th>\n",
       "      <td>A3TAS1AG6FMBQW</td>\n",
       "      <td>0972683275</td>\n",
       "      <td>5.0</td>\n",
       "      <td>163</td>\n",
       "      <td>Rated more than 50</td>\n",
       "    </tr>\n",
       "    <tr>\n",
       "      <th>...</th>\n",
       "      <td>...</td>\n",
       "      <td>...</td>\n",
       "      <td>...</td>\n",
       "      <td>...</td>\n",
       "      <td>...</td>\n",
       "    </tr>\n",
       "    <tr>\n",
       "      <th>7824426</th>\n",
       "      <td>A1E1LEVQ9VQNK</td>\n",
       "      <td>B00LGQ6HL8</td>\n",
       "      <td>5.0</td>\n",
       "      <td>197</td>\n",
       "      <td>Rated more than 50</td>\n",
       "    </tr>\n",
       "    <tr>\n",
       "      <th>7824427</th>\n",
       "      <td>A2NYK9KWFMJV4Y</td>\n",
       "      <td>B00LGQ6HL8</td>\n",
       "      <td>5.0</td>\n",
       "      <td>238</td>\n",
       "      <td>Rated more than 50</td>\n",
       "    </tr>\n",
       "    <tr>\n",
       "      <th>7824436</th>\n",
       "      <td>A3AYSYSLHU26U9</td>\n",
       "      <td>B00LI4ZZO8</td>\n",
       "      <td>4.0</td>\n",
       "      <td>257</td>\n",
       "      <td>Rated more than 50</td>\n",
       "    </tr>\n",
       "    <tr>\n",
       "      <th>7824438</th>\n",
       "      <td>A2NYK9KWFMJV4Y</td>\n",
       "      <td>B00LI4ZZO8</td>\n",
       "      <td>5.0</td>\n",
       "      <td>238</td>\n",
       "      <td>Rated more than 50</td>\n",
       "    </tr>\n",
       "    <tr>\n",
       "      <th>7824444</th>\n",
       "      <td>A2BYV7S1QP2YIG</td>\n",
       "      <td>B00LKG1MC8</td>\n",
       "      <td>5.0</td>\n",
       "      <td>156</td>\n",
       "      <td>Rated more than 50</td>\n",
       "    </tr>\n",
       "  </tbody>\n",
       "</table>\n",
       "<p>122171 rows × 5 columns</p>\n",
       "</div>"
      ],
      "text/plain": [
       "                 userId   productId  ratings  ratings_user_count  \\\n",
       "118       AT09WGFUM934H  0594481813      3.0                 110   \n",
       "177      A32HSNCNPRUMTR  0970407998      1.0                  72   \n",
       "178      A17HMM1M7T9PJ1  0970407998      4.0                 151   \n",
       "492      A3CLWR1UUZT6TG  0972683275      5.0                  58   \n",
       "631      A3TAS1AG6FMBQW  0972683275      5.0                 163   \n",
       "...                 ...         ...      ...                 ...   \n",
       "7824426   A1E1LEVQ9VQNK  B00LGQ6HL8      5.0                 197   \n",
       "7824427  A2NYK9KWFMJV4Y  B00LGQ6HL8      5.0                 238   \n",
       "7824436  A3AYSYSLHU26U9  B00LI4ZZO8      4.0                 257   \n",
       "7824438  A2NYK9KWFMJV4Y  B00LI4ZZO8      5.0                 238   \n",
       "7824444  A2BYV7S1QP2YIG  B00LKG1MC8      5.0                 156   \n",
       "\n",
       "                      Group  \n",
       "118      Rated more than 50  \n",
       "177      Rated more than 50  \n",
       "178      Rated more than 50  \n",
       "492      Rated more than 50  \n",
       "631      Rated more than 50  \n",
       "...                     ...  \n",
       "7824426  Rated more than 50  \n",
       "7824427  Rated more than 50  \n",
       "7824436  Rated more than 50  \n",
       "7824438  Rated more than 50  \n",
       "7824444  Rated more than 50  \n",
       "\n",
       "[122171 rows x 5 columns]"
      ]
     },
     "execution_count": 46,
     "metadata": {},
     "output_type": "execute_result"
    }
   ],
   "source": [
    "subset"
   ]
  },
  {
   "cell_type": "code",
   "execution_count": 47,
   "metadata": {},
   "outputs": [],
   "source": [
    "reader=Reader(rating_scale=(1.0, 5.0))"
   ]
  },
  {
   "cell_type": "code",
   "execution_count": 48,
   "metadata": {},
   "outputs": [],
   "source": [
    "#This line will create the matrix from our pandas dataframe\n",
    "data_for_mf=Dataset.load_from_df(subset[['userId','productId','ratings']],reader)"
   ]
  },
  {
   "cell_type": "code",
   "execution_count": 49,
   "metadata": {},
   "outputs": [
    {
     "data": {
      "text/plain": [
       "<surprise.dataset.DatasetAutoFolds at 0x28ed367ba48>"
      ]
     },
     "execution_count": 49,
     "metadata": {},
     "output_type": "execute_result"
    }
   ],
   "source": [
    "data_for_mf"
   ]
  },
  {
   "cell_type": "markdown",
   "metadata": {},
   "source": [
    "Split the data randomly into a train and test dataset :\n",
    "Note that I am using train_test_split from surprise package and not from sklearn , so there will be a slight change in syntax"
   ]
  },
  {
   "cell_type": "code",
   "execution_count": 50,
   "metadata": {},
   "outputs": [],
   "source": [
    "from surprise.model_selection.split import train_test_split\n",
    "X,Y=train_test_split(data_for_mf,test_size=0.3)"
   ]
  },
  {
   "cell_type": "code",
   "execution_count": 51,
   "metadata": {},
   "outputs": [],
   "source": [
    "#Naming the model M1 and calling the SVD algorithm.\n",
    "M1=SVD()"
   ]
  },
  {
   "cell_type": "code",
   "execution_count": 52,
   "metadata": {},
   "outputs": [],
   "source": [
    "data = Dataset.load_from_df(df[['userId', 'productId', 'ratings']], reader)"
   ]
  },
  {
   "cell_type": "code",
   "execution_count": 53,
   "metadata": {},
   "outputs": [
    {
     "data": {
      "text/plain": [
       "<surprise.prediction_algorithms.matrix_factorization.SVD at 0x28e901bc888>"
      ]
     },
     "execution_count": 53,
     "metadata": {},
     "output_type": "execute_result"
    }
   ],
   "source": [
    "#train our model M1 with the training data\n",
    "M1.fit(X)"
   ]
  },
  {
   "cell_type": "code",
   "execution_count": 54,
   "metadata": {},
   "outputs": [],
   "source": [
    "#Lets do the prediction for the test set\n",
    "predictions=M1.test(Y)"
   ]
  },
  {
   "cell_type": "code",
   "execution_count": 55,
   "metadata": {},
   "outputs": [
    {
     "data": {
      "text/plain": [
       "[Prediction(uid='AGGAQLXPVGM5D', iid='B0017QA5PG', r_ui=4.0, est=4.570532171920656, details={'was_impossible': False}),\n",
       " Prediction(uid='AQ3IN3MRXQ5KH', iid='B00BF9I0JI', r_ui=3.0, est=3.943799646036195, details={'was_impossible': False}),\n",
       " Prediction(uid='A2X3L31KCXBHCL', iid='B009A6CZ30', r_ui=5.0, est=4.871505599629649, details={'was_impossible': False}),\n",
       " Prediction(uid='AUK79PXTAOJP9', iid='B00B9AAKJ6', r_ui=5.0, est=4.643522335182841, details={'was_impossible': False}),\n",
       " Prediction(uid='A2GMZZ6TDYOHY7', iid='B00006RVPW', r_ui=5.0, est=4.893645328509704, details={'was_impossible': False}),\n",
       " Prediction(uid='A2ME89MSWVG9NF', iid='B00452V1ZW', r_ui=4.0, est=3.9521778022055516, details={'was_impossible': False}),\n",
       " Prediction(uid='AMFXXAOVV4CPJ', iid='B002TQ6HT6', r_ui=4.0, est=4.660558207101866, details={'was_impossible': False}),\n",
       " Prediction(uid='ACYZXQ2JKPZKT', iid='B0097CXFCC', r_ui=3.0, est=3.519806878884454, details={'was_impossible': False}),\n",
       " Prediction(uid='A257X1MQJO82P2', iid='B008U0310S', r_ui=5.0, est=4.71510097452622, details={'was_impossible': False}),\n",
       " Prediction(uid='A1FOSIV4TWZFR7', iid='B003KPYRJM', r_ui=5.0, est=4.184317751404364, details={'was_impossible': False})]"
      ]
     },
     "execution_count": 55,
     "metadata": {},
     "output_type": "execute_result"
    }
   ],
   "source": [
    "predictions[:10]"
   ]
  },
  {
   "cell_type": "markdown",
   "metadata": {},
   "source": [
    "For each user (uid), for the product (iid) our model has given the actual rating(r_ui) and the predicted rating (est) the user will give for the product.\n",
    "\n",
    "was_impossible= False denotes that the algorithm was able predict the user rating , If was_impossible = True then it means that the algorithm was not able to predict the rating.This may generally happen if the user does not has any rating provided to any of the product which is also known as the cold start problem.\n",
    "\n",
    "Now using the below function we will map the procuct id's(iid and est rating) for each user and also will sort the first 5 products recommended for each user"
   ]
  },
  {
   "cell_type": "code",
   "execution_count": 56,
   "metadata": {},
   "outputs": [],
   "source": [
    "from collections import defaultdict\n",
    "def get_top_n(predictions, n=5):\n",
    "    # First map the predictions to each user.\n",
    "    top_n = defaultdict(list)\n",
    "    for uid, iid, true_r, est, _ in predictions:\n",
    "        top_n[uid].append((iid, est))\n",
    "\n",
    "    # Then sort the predictions for each user and retrieve the k highest ones.\n",
    "    for uid, user_ratings in top_n.items():\n",
    "        user_ratings.sort(key=lambda x: x[1], reverse=True)\n",
    "        top_n[uid] = user_ratings[:n]\n",
    "\n",
    "    return top_n"
   ]
  },
  {
   "cell_type": "code",
   "execution_count": 57,
   "metadata": {},
   "outputs": [],
   "source": [
    "top_n = get_top_n(predictions,n=5)"
   ]
  },
  {
   "cell_type": "code",
   "execution_count": 58,
   "metadata": {},
   "outputs": [
    {
     "data": {
      "text/plain": [
       "{'AGGAQLXPVGM5D': [('B002VPE21A', 4.941473189678129),\n",
       "  ('B001A4LVYY', 4.854830402428875),\n",
       "  ('B0014S5FVQ', 4.816144992095948),\n",
       "  ('B002I636XM', 4.804750922825722),\n",
       "  ('B003Y74AWU', 4.763632209343819)],\n",
       " 'AQ3IN3MRXQ5KH': [('B001O4EPHA', 4.31946457314914),\n",
       "  ('B00006IRR8', 4.256919742201941),\n",
       "  ('B0055QZ216', 4.249006641317637),\n",
       "  ('B004GUT1QO', 4.227494260238634),\n",
       "  ('B00001W0D4', 4.180125729779477)],\n",
       " 'A2X3L31KCXBHCL': [('B000JMJWV2', 4.980705781242808),\n",
       "  ('B009A6CZ30', 4.871505599629649),\n",
       "  ('B00829THVO', 4.695862119042963),\n",
       "  ('B00EOI2SYK', 4.500604137624863),\n",
       "  ('B001QATRCA', 4.438611265948701)],\n",
       " 'AUK79PXTAOJP9': [('B0055QYKQO', 4.98055504768756),\n",
       "  ('B0002L5R78', 4.964085760104514),\n",
       "  ('B0077CR5RK', 4.809759694058663),\n",
       "  ('B00763WKZW', 4.743124172756238),\n",
       "  ('B007I5JT4S', 4.726091539031309)],\n",
       " 'A2GMZZ6TDYOHY7': [('B002V8C3W2', 5.0),\n",
       "  ('B006QB1RPY', 5.0),\n",
       "  ('B001TH7GUU', 5.0),\n",
       "  ('B0002JFN10', 4.937995527498018),\n",
       "  ('B00006RVPW', 4.893645328509704)],\n",
       " 'A2ME89MSWVG9NF': [('B009YT6PPC', 4.324532781225024),\n",
       "  ('B0030MITDK', 4.23777785389093),\n",
       "  ('B00829TIEK', 4.211233966344962),\n",
       "  ('B004XZHY34', 4.070537544787831),\n",
       "  ('B0001G6U5M', 4.055221078646869)]}"
      ]
     },
     "execution_count": 58,
     "metadata": {},
     "output_type": "execute_result"
    }
   ],
   "source": [
    "top_new= {k: top_n[k] for k in list(top_n)[:6]}\n",
    "top_new"
   ]
  },
  {
   "cell_type": "code",
   "execution_count": 59,
   "metadata": {},
   "outputs": [],
   "source": [
    "from surprise import accuracy"
   ]
  },
  {
   "cell_type": "code",
   "execution_count": 60,
   "metadata": {},
   "outputs": [
    {
     "name": "stdout",
     "output_type": "stream",
     "text": [
      "The Root Mean Square Error for the Matrix Factorization using SVD:0.9820025707657147\n",
      "The Mean Absolute Error for the Matrix Factorization using SVD:0.7249951977256861\n"
     ]
    }
   ],
   "source": [
    "print(\"The Root Mean Square Error for the Matrix Factorization using SVD:{}\".format(accuracy.rmse(predictions,verbose=False)))\n",
    "print(\"The Mean Absolute Error for the Matrix Factorization using SVD:{}\".format(accuracy.mae(predictions,verbose=False)))"
   ]
  },
  {
   "cell_type": "markdown",
   "metadata": {},
   "source": [
    "# Hybrid Recommender\n",
    "\n",
    "In this section, we try to build a hybrid recommender that combines corrwith() method which computes the Pearson correlation coefficients with collaborative filtering. This is how it works:\n",
    "\n",
    "Input: User ID and Product ID\n",
    "\n",
    "Output: Similar products sorted on the basis of expected ratings by a particular user.\n",
    "\n",
    "First, we create a pivot table which contains userIds as rows and productIds as columns. However, if we use the whole dataframe(df) in the below code, there will be an error because the input data has more than 7 million rows.\n",
    "\n",
    "The below code will give an error: matrix=pd.pivot_table(data=df, values='rating', index='userId',columns='productId')\n",
    "\n",
    "To avoid processing difficulties, we filter data which only contains the customers who have given ratings more than 50 times and put them into a dataframe. Since we are providing the recommendation of the products to the customers, it is better to remove data based on the userId rather than productId."
   ]
  },
  {
   "cell_type": "code",
   "execution_count": 61,
   "metadata": {},
   "outputs": [],
   "source": [
    "df_users=Data.groupby('userId').filter(lambda x: x['ratings'].count()>=50)"
   ]
  },
  {
   "cell_type": "code",
   "execution_count": 62,
   "metadata": {},
   "outputs": [
    {
     "data": {
      "text/html": [
       "<div>\n",
       "<style scoped>\n",
       "    .dataframe tbody tr th:only-of-type {\n",
       "        vertical-align: middle;\n",
       "    }\n",
       "\n",
       "    .dataframe tbody tr th {\n",
       "        vertical-align: top;\n",
       "    }\n",
       "\n",
       "    .dataframe thead th {\n",
       "        text-align: right;\n",
       "    }\n",
       "</style>\n",
       "<table border=\"1\" class=\"dataframe\">\n",
       "  <thead>\n",
       "    <tr style=\"text-align: right;\">\n",
       "      <th></th>\n",
       "      <th>userId</th>\n",
       "      <th>productId</th>\n",
       "      <th>ratings</th>\n",
       "    </tr>\n",
       "  </thead>\n",
       "  <tbody>\n",
       "    <tr>\n",
       "      <th>94</th>\n",
       "      <td>A3BY5KCNQZXV5U</td>\n",
       "      <td>0594451647</td>\n",
       "      <td>5.0</td>\n",
       "    </tr>\n",
       "    <tr>\n",
       "      <th>118</th>\n",
       "      <td>AT09WGFUM934H</td>\n",
       "      <td>0594481813</td>\n",
       "      <td>3.0</td>\n",
       "    </tr>\n",
       "    <tr>\n",
       "      <th>177</th>\n",
       "      <td>A32HSNCNPRUMTR</td>\n",
       "      <td>0970407998</td>\n",
       "      <td>1.0</td>\n",
       "    </tr>\n",
       "    <tr>\n",
       "      <th>178</th>\n",
       "      <td>A17HMM1M7T9PJ1</td>\n",
       "      <td>0970407998</td>\n",
       "      <td>4.0</td>\n",
       "    </tr>\n",
       "    <tr>\n",
       "      <th>492</th>\n",
       "      <td>A3CLWR1UUZT6TG</td>\n",
       "      <td>0972683275</td>\n",
       "      <td>5.0</td>\n",
       "    </tr>\n",
       "  </tbody>\n",
       "</table>\n",
       "</div>"
      ],
      "text/plain": [
       "             userId   productId  ratings\n",
       "94   A3BY5KCNQZXV5U  0594451647      5.0\n",
       "118   AT09WGFUM934H  0594481813      3.0\n",
       "177  A32HSNCNPRUMTR  0970407998      1.0\n",
       "178  A17HMM1M7T9PJ1  0970407998      4.0\n",
       "492  A3CLWR1UUZT6TG  0972683275      5.0"
      ]
     },
     "execution_count": 62,
     "metadata": {},
     "output_type": "execute_result"
    }
   ],
   "source": [
    "df_users.head()"
   ]
  },
  {
   "cell_type": "code",
   "execution_count": 63,
   "metadata": {},
   "outputs": [
    {
     "data": {
      "text/plain": [
       "(125871, 3)"
      ]
     },
     "execution_count": 63,
     "metadata": {},
     "output_type": "execute_result"
    }
   ],
   "source": [
    "df_users.shape"
   ]
  },
  {
   "cell_type": "markdown",
   "metadata": {},
   "source": [
    "Then we create a pivot table."
   ]
  },
  {
   "cell_type": "code",
   "execution_count": 64,
   "metadata": {},
   "outputs": [],
   "source": [
    "matrix=pd.pivot_table(data=df_users, values='ratings', index='userId',columns='productId')"
   ]
  },
  {
   "cell_type": "code",
   "execution_count": 65,
   "metadata": {},
   "outputs": [
    {
     "data": {
      "text/html": [
       "<div>\n",
       "<style scoped>\n",
       "    .dataframe tbody tr th:only-of-type {\n",
       "        vertical-align: middle;\n",
       "    }\n",
       "\n",
       "    .dataframe tbody tr th {\n",
       "        vertical-align: top;\n",
       "    }\n",
       "\n",
       "    .dataframe thead th {\n",
       "        text-align: right;\n",
       "    }\n",
       "</style>\n",
       "<table border=\"1\" class=\"dataframe\">\n",
       "  <thead>\n",
       "    <tr style=\"text-align: right;\">\n",
       "      <th>productId</th>\n",
       "      <th>0594451647</th>\n",
       "      <th>0594481813</th>\n",
       "      <th>0970407998</th>\n",
       "      <th>0972683275</th>\n",
       "      <th>1400501466</th>\n",
       "      <th>1400501520</th>\n",
       "      <th>1400501776</th>\n",
       "      <th>1400532620</th>\n",
       "      <th>1400532655</th>\n",
       "      <th>140053271X</th>\n",
       "      <th>...</th>\n",
       "      <th>B00L5YZCCG</th>\n",
       "      <th>B00L8I6SFY</th>\n",
       "      <th>B00L8QCVL6</th>\n",
       "      <th>B00LA6T0LS</th>\n",
       "      <th>B00LBZ1Z7K</th>\n",
       "      <th>B00LED02VY</th>\n",
       "      <th>B00LGN7Y3G</th>\n",
       "      <th>B00LGQ6HL8</th>\n",
       "      <th>B00LI4ZZO8</th>\n",
       "      <th>B00LKG1MC8</th>\n",
       "    </tr>\n",
       "    <tr>\n",
       "      <th>userId</th>\n",
       "      <th></th>\n",
       "      <th></th>\n",
       "      <th></th>\n",
       "      <th></th>\n",
       "      <th></th>\n",
       "      <th></th>\n",
       "      <th></th>\n",
       "      <th></th>\n",
       "      <th></th>\n",
       "      <th></th>\n",
       "      <th></th>\n",
       "      <th></th>\n",
       "      <th></th>\n",
       "      <th></th>\n",
       "      <th></th>\n",
       "      <th></th>\n",
       "      <th></th>\n",
       "      <th></th>\n",
       "      <th></th>\n",
       "      <th></th>\n",
       "      <th></th>\n",
       "    </tr>\n",
       "  </thead>\n",
       "  <tbody>\n",
       "    <tr>\n",
       "      <th>A100UD67AHFODS</th>\n",
       "      <td>NaN</td>\n",
       "      <td>NaN</td>\n",
       "      <td>NaN</td>\n",
       "      <td>NaN</td>\n",
       "      <td>NaN</td>\n",
       "      <td>NaN</td>\n",
       "      <td>NaN</td>\n",
       "      <td>NaN</td>\n",
       "      <td>NaN</td>\n",
       "      <td>NaN</td>\n",
       "      <td>...</td>\n",
       "      <td>NaN</td>\n",
       "      <td>NaN</td>\n",
       "      <td>NaN</td>\n",
       "      <td>NaN</td>\n",
       "      <td>NaN</td>\n",
       "      <td>NaN</td>\n",
       "      <td>NaN</td>\n",
       "      <td>NaN</td>\n",
       "      <td>NaN</td>\n",
       "      <td>NaN</td>\n",
       "    </tr>\n",
       "    <tr>\n",
       "      <th>A100WO06OQR8BQ</th>\n",
       "      <td>NaN</td>\n",
       "      <td>NaN</td>\n",
       "      <td>NaN</td>\n",
       "      <td>NaN</td>\n",
       "      <td>NaN</td>\n",
       "      <td>NaN</td>\n",
       "      <td>NaN</td>\n",
       "      <td>NaN</td>\n",
       "      <td>NaN</td>\n",
       "      <td>NaN</td>\n",
       "      <td>...</td>\n",
       "      <td>NaN</td>\n",
       "      <td>NaN</td>\n",
       "      <td>NaN</td>\n",
       "      <td>NaN</td>\n",
       "      <td>NaN</td>\n",
       "      <td>NaN</td>\n",
       "      <td>NaN</td>\n",
       "      <td>NaN</td>\n",
       "      <td>NaN</td>\n",
       "      <td>NaN</td>\n",
       "    </tr>\n",
       "    <tr>\n",
       "      <th>A105S56ODHGJEK</th>\n",
       "      <td>NaN</td>\n",
       "      <td>NaN</td>\n",
       "      <td>NaN</td>\n",
       "      <td>NaN</td>\n",
       "      <td>NaN</td>\n",
       "      <td>NaN</td>\n",
       "      <td>NaN</td>\n",
       "      <td>NaN</td>\n",
       "      <td>NaN</td>\n",
       "      <td>NaN</td>\n",
       "      <td>...</td>\n",
       "      <td>NaN</td>\n",
       "      <td>NaN</td>\n",
       "      <td>NaN</td>\n",
       "      <td>NaN</td>\n",
       "      <td>NaN</td>\n",
       "      <td>NaN</td>\n",
       "      <td>NaN</td>\n",
       "      <td>NaN</td>\n",
       "      <td>NaN</td>\n",
       "      <td>NaN</td>\n",
       "    </tr>\n",
       "    <tr>\n",
       "      <th>A105TOJ6LTVMBG</th>\n",
       "      <td>NaN</td>\n",
       "      <td>NaN</td>\n",
       "      <td>NaN</td>\n",
       "      <td>NaN</td>\n",
       "      <td>NaN</td>\n",
       "      <td>NaN</td>\n",
       "      <td>NaN</td>\n",
       "      <td>NaN</td>\n",
       "      <td>NaN</td>\n",
       "      <td>NaN</td>\n",
       "      <td>...</td>\n",
       "      <td>NaN</td>\n",
       "      <td>NaN</td>\n",
       "      <td>NaN</td>\n",
       "      <td>NaN</td>\n",
       "      <td>NaN</td>\n",
       "      <td>NaN</td>\n",
       "      <td>NaN</td>\n",
       "      <td>NaN</td>\n",
       "      <td>NaN</td>\n",
       "      <td>NaN</td>\n",
       "    </tr>\n",
       "    <tr>\n",
       "      <th>A10AFVU66A79Y1</th>\n",
       "      <td>NaN</td>\n",
       "      <td>NaN</td>\n",
       "      <td>NaN</td>\n",
       "      <td>NaN</td>\n",
       "      <td>NaN</td>\n",
       "      <td>NaN</td>\n",
       "      <td>NaN</td>\n",
       "      <td>NaN</td>\n",
       "      <td>NaN</td>\n",
       "      <td>NaN</td>\n",
       "      <td>...</td>\n",
       "      <td>NaN</td>\n",
       "      <td>NaN</td>\n",
       "      <td>NaN</td>\n",
       "      <td>NaN</td>\n",
       "      <td>NaN</td>\n",
       "      <td>NaN</td>\n",
       "      <td>NaN</td>\n",
       "      <td>NaN</td>\n",
       "      <td>NaN</td>\n",
       "      <td>NaN</td>\n",
       "    </tr>\n",
       "  </tbody>\n",
       "</table>\n",
       "<p>5 rows × 48190 columns</p>\n",
       "</div>"
      ],
      "text/plain": [
       "productId       0594451647  0594481813  0970407998  0972683275  1400501466  \\\n",
       "userId                                                                       \n",
       "A100UD67AHFODS         NaN         NaN         NaN         NaN         NaN   \n",
       "A100WO06OQR8BQ         NaN         NaN         NaN         NaN         NaN   \n",
       "A105S56ODHGJEK         NaN         NaN         NaN         NaN         NaN   \n",
       "A105TOJ6LTVMBG         NaN         NaN         NaN         NaN         NaN   \n",
       "A10AFVU66A79Y1         NaN         NaN         NaN         NaN         NaN   \n",
       "\n",
       "productId       1400501520  1400501776  1400532620  1400532655  140053271X  \\\n",
       "userId                                                                       \n",
       "A100UD67AHFODS         NaN         NaN         NaN         NaN         NaN   \n",
       "A100WO06OQR8BQ         NaN         NaN         NaN         NaN         NaN   \n",
       "A105S56ODHGJEK         NaN         NaN         NaN         NaN         NaN   \n",
       "A105TOJ6LTVMBG         NaN         NaN         NaN         NaN         NaN   \n",
       "A10AFVU66A79Y1         NaN         NaN         NaN         NaN         NaN   \n",
       "\n",
       "productId       ...  B00L5YZCCG  B00L8I6SFY  B00L8QCVL6  B00LA6T0LS  \\\n",
       "userId          ...                                                   \n",
       "A100UD67AHFODS  ...         NaN         NaN         NaN         NaN   \n",
       "A100WO06OQR8BQ  ...         NaN         NaN         NaN         NaN   \n",
       "A105S56ODHGJEK  ...         NaN         NaN         NaN         NaN   \n",
       "A105TOJ6LTVMBG  ...         NaN         NaN         NaN         NaN   \n",
       "A10AFVU66A79Y1  ...         NaN         NaN         NaN         NaN   \n",
       "\n",
       "productId       B00LBZ1Z7K  B00LED02VY  B00LGN7Y3G  B00LGQ6HL8  B00LI4ZZO8  \\\n",
       "userId                                                                       \n",
       "A100UD67AHFODS         NaN         NaN         NaN         NaN         NaN   \n",
       "A100WO06OQR8BQ         NaN         NaN         NaN         NaN         NaN   \n",
       "A105S56ODHGJEK         NaN         NaN         NaN         NaN         NaN   \n",
       "A105TOJ6LTVMBG         NaN         NaN         NaN         NaN         NaN   \n",
       "A10AFVU66A79Y1         NaN         NaN         NaN         NaN         NaN   \n",
       "\n",
       "productId       B00LKG1MC8  \n",
       "userId                      \n",
       "A100UD67AHFODS         NaN  \n",
       "A100WO06OQR8BQ         NaN  \n",
       "A105S56ODHGJEK         NaN  \n",
       "A105TOJ6LTVMBG         NaN  \n",
       "A10AFVU66A79Y1         NaN  \n",
       "\n",
       "[5 rows x 48190 columns]"
      ]
     },
     "execution_count": 65,
     "metadata": {},
     "output_type": "execute_result"
    }
   ],
   "source": [
    "matrix.head()"
   ]
  },
  {
   "cell_type": "markdown",
   "metadata": {},
   "source": [
    "Finally we define a function that takes in productId and useId as input and outputs up to 5 most similar products. For this purpose, we use corrwith() method to compute pairwise correlation between columns of dataFrame and calculate Pearson correlation coefficients."
   ]
  },
  {
   "cell_type": "code",
   "execution_count": 66,
   "metadata": {},
   "outputs": [],
   "source": [
    "# Function that takes in productId and useId as input and outputs up to 5 most similar products.\n",
    "def hybrid_recommendations(userId, productId):\n",
    "    \n",
    "    # Get the Id of the top five products that are correlated with the ProductId chosen by the user.\n",
    "    top_five=matrix.corrwith(matrix[productId]).sort_values(ascending=False).head(5)\n",
    "    \n",
    "    # Predict the ratings the user might give to these top 5 most correlated products.\n",
    "    est_rating=[]\n",
    "    for x in list(top_five.index):\n",
    "        if str(top_five[x])!='nan':\n",
    "            est_rating.append(M1.predict(userId, iid=x, r_ui=None).est)\n",
    "           \n",
    "    return pd.DataFrame({'productId':list(top_five.index)[:len(est_rating)], 'estimated_rating':est_rating}).sort_values(by='estimated_rating', ascending=False).reset_index(drop=True)"
   ]
  },
  {
   "cell_type": "markdown",
   "metadata": {},
   "source": [
    "As an example, we use this hybrid function to recommend similar products and predict the scores that might be given by a specific user to these similar products. It should be noted that this function was defined bassed on df_users dataframe that only includes the users who have rated 50 times or more. Now, we check the performance of this hybrid recommender for some of the userIds included in df_users dataframe."
   ]
  },
  {
   "cell_type": "code",
   "execution_count": 67,
   "metadata": {},
   "outputs": [
    {
     "data": {
      "text/html": [
       "<div>\n",
       "<style scoped>\n",
       "    .dataframe tbody tr th:only-of-type {\n",
       "        vertical-align: middle;\n",
       "    }\n",
       "\n",
       "    .dataframe tbody tr th {\n",
       "        vertical-align: top;\n",
       "    }\n",
       "\n",
       "    .dataframe thead th {\n",
       "        text-align: right;\n",
       "    }\n",
       "</style>\n",
       "<table border=\"1\" class=\"dataframe\">\n",
       "  <thead>\n",
       "    <tr style=\"text-align: right;\">\n",
       "      <th></th>\n",
       "      <th>productId</th>\n",
       "      <th>estimated_rating</th>\n",
       "    </tr>\n",
       "  </thead>\n",
       "  <tbody>\n",
       "    <tr>\n",
       "      <th>0</th>\n",
       "      <td>B00D1QC50S</td>\n",
       "      <td>4.917361</td>\n",
       "    </tr>\n",
       "    <tr>\n",
       "      <th>1</th>\n",
       "      <td>B00LI4ZZO8</td>\n",
       "      <td>4.866942</td>\n",
       "    </tr>\n",
       "    <tr>\n",
       "      <th>2</th>\n",
       "      <td>B00FRBCSUW</td>\n",
       "      <td>4.789639</td>\n",
       "    </tr>\n",
       "    <tr>\n",
       "      <th>3</th>\n",
       "      <td>B00ETH7ERM</td>\n",
       "      <td>4.731171</td>\n",
       "    </tr>\n",
       "    <tr>\n",
       "      <th>4</th>\n",
       "      <td>B00KIMX4EY</td>\n",
       "      <td>4.611572</td>\n",
       "    </tr>\n",
       "  </tbody>\n",
       "</table>\n",
       "</div>"
      ],
      "text/plain": [
       "    productId  estimated_rating\n",
       "0  B00D1QC50S          4.917361\n",
       "1  B00LI4ZZO8          4.866942\n",
       "2  B00FRBCSUW          4.789639\n",
       "3  B00ETH7ERM          4.731171\n",
       "4  B00KIMX4EY          4.611572"
      ]
     },
     "execution_count": 67,
     "metadata": {},
     "output_type": "execute_result"
    }
   ],
   "source": [
    "hybrid_recommendations('A2NYK9KWFMJV4Y', 'B00LI4ZZO8')"
   ]
  },
  {
   "cell_type": "markdown",
   "metadata": {},
   "source": [
    "# Collaborative Filtering Using KNNwithMeans\n",
    "KNNWith means is a nearest neighbour mapping method , that is used to recommend users the products based on the what your closest neighbour has bought/liked.\n",
    "\n",
    "More often than not, we do see \"People who liked this also liked this\", \"People who bought this also bought these\" when we do online shopping or watch movies etc. These are classic examples of recommendation systems that work on the concept of nearest neighbour colloborative filtering.\n",
    "\n",
    "How is this done ?\n",
    "\n",
    "The similarity between user/item is calculated for each user either based on cosine similiarity or using pearson correlation coefficient. Depending on the values of these parameters the products are suggested to the user.\n",
    "\n",
    "Nearest Neighbour recommendation is not just limited to users , it can also be applied to understand the similarity between items."
   ]
  },
  {
   "cell_type": "code",
   "execution_count": 68,
   "metadata": {},
   "outputs": [],
   "source": [
    "#From surprise library , we are importing KNNwithmeans to implement this\n",
    "from surprise import KNNWithMeans"
   ]
  },
  {
   "cell_type": "code",
   "execution_count": 69,
   "metadata": {},
   "outputs": [],
   "source": [
    "#Due to memory issue I am using just a small subset of data, \n",
    "#We tried with higher values but we ran out of memory allocation and 50000 seems to be working fine\n",
    "subset2=subset.head(50000)"
   ]
  },
  {
   "cell_type": "code",
   "execution_count": 70,
   "metadata": {},
   "outputs": [
    {
     "data": {
      "text/plain": [
       "(50000, 5)"
      ]
     },
     "execution_count": 70,
     "metadata": {},
     "output_type": "execute_result"
    }
   ],
   "source": [
    "subset2.shape"
   ]
  },
  {
   "cell_type": "code",
   "execution_count": 71,
   "metadata": {},
   "outputs": [],
   "source": [
    "#loading the dataset in surprise format from the pandas dataframe and split the data into test and train\n",
    "data_for_collab=Dataset.load_from_df(subset2[['userId','productId','ratings']],reader)\n",
    "trainset,testset=train_test_split(data_for_collab,test_size=.15)"
   ]
  },
  {
   "cell_type": "markdown",
   "metadata": {},
   "source": [
    "We are using GridSearch from surprise to implement KNN for both user-user colloboration and item-item colloboration , we will also use both cosine and pearson similarity and find the best parameters."
   ]
  },
  {
   "cell_type": "code",
   "execution_count": 72,
   "metadata": {},
   "outputs": [],
   "source": [
    "parm_grid={'k':[50,60,70],'name':[\"cosine\",\"pearson_baseline\"],'user_based':[True,False]}"
   ]
  },
  {
   "cell_type": "code",
   "execution_count": 73,
   "metadata": {},
   "outputs": [],
   "source": [
    "from surprise.model_selection import GridSearchCV\n",
    "from surprise.model_selection import cross_validate\n",
    "from surprise.model_selection import cross_validate\n",
    "Grid_1=GridSearchCV(KNNWithMeans,parm_grid,measures=[\"rmse\", \"mae\"],cv=3)"
   ]
  },
  {
   "cell_type": "code",
   "execution_count": 74,
   "metadata": {},
   "outputs": [
    {
     "name": "stdout",
     "output_type": "stream",
     "text": [
      "Computing the msd similarity matrix...\n",
      "Done computing similarity matrix.\n",
      "Computing the msd similarity matrix...\n",
      "Done computing similarity matrix.\n",
      "Computing the msd similarity matrix...\n",
      "Done computing similarity matrix.\n",
      "Computing the msd similarity matrix...\n",
      "Done computing similarity matrix.\n",
      "Computing the msd similarity matrix...\n",
      "Done computing similarity matrix.\n",
      "Computing the msd similarity matrix...\n",
      "Done computing similarity matrix.\n",
      "Computing the msd similarity matrix...\n",
      "Done computing similarity matrix.\n",
      "Computing the msd similarity matrix...\n",
      "Done computing similarity matrix.\n",
      "Computing the msd similarity matrix...\n",
      "Done computing similarity matrix.\n",
      "Computing the msd similarity matrix...\n",
      "Done computing similarity matrix.\n",
      "Computing the msd similarity matrix...\n",
      "Done computing similarity matrix.\n",
      "Computing the msd similarity matrix...\n",
      "Done computing similarity matrix.\n",
      "Computing the msd similarity matrix...\n",
      "Done computing similarity matrix.\n",
      "Computing the msd similarity matrix...\n",
      "Done computing similarity matrix.\n",
      "Computing the msd similarity matrix...\n",
      "Done computing similarity matrix.\n",
      "Computing the msd similarity matrix...\n",
      "Done computing similarity matrix.\n",
      "Computing the msd similarity matrix...\n",
      "Done computing similarity matrix.\n",
      "Computing the msd similarity matrix...\n",
      "Done computing similarity matrix.\n",
      "Computing the msd similarity matrix...\n",
      "Done computing similarity matrix.\n",
      "Computing the msd similarity matrix...\n",
      "Done computing similarity matrix.\n",
      "Computing the msd similarity matrix...\n",
      "Done computing similarity matrix.\n",
      "Computing the msd similarity matrix...\n",
      "Done computing similarity matrix.\n",
      "Computing the msd similarity matrix...\n",
      "Done computing similarity matrix.\n",
      "Computing the msd similarity matrix...\n",
      "Done computing similarity matrix.\n",
      "Computing the msd similarity matrix...\n",
      "Done computing similarity matrix.\n",
      "Computing the msd similarity matrix...\n",
      "Done computing similarity matrix.\n",
      "Computing the msd similarity matrix...\n",
      "Done computing similarity matrix.\n",
      "Computing the msd similarity matrix...\n",
      "Done computing similarity matrix.\n",
      "Computing the msd similarity matrix...\n",
      "Done computing similarity matrix.\n",
      "Computing the msd similarity matrix...\n",
      "Done computing similarity matrix.\n",
      "Computing the msd similarity matrix...\n",
      "Done computing similarity matrix.\n",
      "Computing the msd similarity matrix...\n",
      "Done computing similarity matrix.\n",
      "Computing the msd similarity matrix...\n",
      "Done computing similarity matrix.\n",
      "Computing the msd similarity matrix...\n",
      "Done computing similarity matrix.\n",
      "Computing the msd similarity matrix...\n",
      "Done computing similarity matrix.\n",
      "Computing the msd similarity matrix...\n",
      "Done computing similarity matrix.\n"
     ]
    }
   ],
   "source": [
    "Grid_1.fit(data_for_collab)"
   ]
  },
  {
   "cell_type": "code",
   "execution_count": 75,
   "metadata": {},
   "outputs": [
    {
     "data": {
      "text/plain": [
       "{'k': 50, 'name': 'cosine', 'user_based': True}"
      ]
     },
     "execution_count": 75,
     "metadata": {},
     "output_type": "execute_result"
    }
   ],
   "source": [
    "Grid_1.best_params['rmse']"
   ]
  },
  {
   "cell_type": "code",
   "execution_count": 76,
   "metadata": {},
   "outputs": [
    {
     "data": {
      "text/plain": [
       "{'rmse': <surprise.prediction_algorithms.knns.KNNWithMeans at 0x28f48645ec8>,\n",
       " 'mae': <surprise.prediction_algorithms.knns.KNNWithMeans at 0x28f4afecfc8>}"
      ]
     },
     "execution_count": 76,
     "metadata": {},
     "output_type": "execute_result"
    }
   ],
   "source": [
    "Grid_1.best_estimator"
   ]
  },
  {
   "cell_type": "code",
   "execution_count": 77,
   "metadata": {},
   "outputs": [
    {
     "data": {
      "text/plain": [
       "{'rmse': 1.124496729984408, 'mae': 0.8225132023110172}"
      ]
     },
     "execution_count": 77,
     "metadata": {},
     "output_type": "execute_result"
    }
   ],
   "source": [
    "Grid_1.best_score"
   ]
  },
  {
   "cell_type": "markdown",
   "metadata": {},
   "source": [
    "# KNNwithMeans\n",
    "Now, since we have obtained the best parameters for the KNNwithmeans using Gridsearch, we shall train the model M2 with these parameters.\n",
    "\n",
    "Though the best results are obtained through user-user similarity in gridsearch, we shall also perform KNN with item -item similarity.\n",
    "\n",
    "# What is user-user similarity?\n",
    "The recommendations are provided to a user based on how similar the given user is with his neighbour within a set of cluster. The similarity is calculated either through cosine distance or pearson correlation.\n",
    "\n",
    "# What is item-item similarity?\n",
    "The recommendations are provided to a user based on how similar the given item is with it's neighbours within a set of cluster. The similarity is calculated either through cosine distance or pearson correlation."
   ]
  },
  {
   "cell_type": "code",
   "execution_count": 78,
   "metadata": {},
   "outputs": [],
   "source": [
    "M2=KNNWithMeans(k=50,sim_options={'name': 'cosine', 'min_support': 5, 'user_based': True,'k':5},verbose= True,c=3)"
   ]
  },
  {
   "cell_type": "code",
   "execution_count": 79,
   "metadata": {},
   "outputs": [
    {
     "name": "stdout",
     "output_type": "stream",
     "text": [
      "Computing the cosine similarity matrix...\n",
      "Done computing similarity matrix.\n"
     ]
    },
    {
     "data": {
      "text/plain": [
       "<surprise.prediction_algorithms.knns.KNNWithMeans at 0x28f4993e608>"
      ]
     },
     "execution_count": 79,
     "metadata": {},
     "output_type": "execute_result"
    }
   ],
   "source": [
    "#fitting our training data to our model\n",
    "M2.fit(trainset)"
   ]
  },
  {
   "cell_type": "code",
   "execution_count": 80,
   "metadata": {},
   "outputs": [],
   "source": [
    "pred2=M2.test(testset)"
   ]
  },
  {
   "cell_type": "code",
   "execution_count": 81,
   "metadata": {},
   "outputs": [
    {
     "data": {
      "text/plain": [
       "[Prediction(uid='AMFXXAOVV4CPJ', iid='B001FG0JB8', r_ui=5.0, est=4.5, details={'actual_k': 0, 'was_impossible': False}),\n",
       " Prediction(uid='A3N8O68DOEQ2FE', iid='B001E1Y5O6', r_ui=2.0, est=4.764705882352941, details={'actual_k': 0, 'was_impossible': False}),\n",
       " Prediction(uid='AKBVYIIHWI04B', iid='B002MAPRYU', r_ui=5.0, est=4.470588235294118, details={'actual_k': 0, 'was_impossible': False}),\n",
       " Prediction(uid='ALNE7Q71JFC0F', iid='B002UT42UI', r_ui=2.0, est=4.588235294117647, details={'actual_k': 0, 'was_impossible': False}),\n",
       " Prediction(uid='A2T689YVOAYGGD', iid='B002QEBMAK', r_ui=5.0, est=4.228571428571429, details={'actual_k': 0, 'was_impossible': False})]"
      ]
     },
     "execution_count": 81,
     "metadata": {},
     "output_type": "execute_result"
    }
   ],
   "source": [
    "pred2[:5]"
   ]
  },
  {
   "cell_type": "code",
   "execution_count": 82,
   "metadata": {},
   "outputs": [
    {
     "name": "stdout",
     "output_type": "stream",
     "text": [
      "The Root Mean Square Error for KNNwithMeans using user user similarity:1.0748432415608005\n",
      "The Mean Absolute Error for KNNwithMeans using user user similarity:0.8123208725237712\n"
     ]
    }
   ],
   "source": [
    "print(\"The Root Mean Square Error for KNNwithMeans using user user similarity:{}\".format(accuracy.rmse(pred2,verbose=False)))\n",
    "print(\"The Mean Absolute Error for KNNwithMeans using user user similarity:{}\".format(accuracy.mae(pred2,verbose=False)))"
   ]
  },
  {
   "cell_type": "markdown",
   "metadata": {},
   "source": [
    "Lets do 5 fold cross validation for our best model M2 with user_based = True and see the RMSE and MAE"
   ]
  },
  {
   "cell_type": "code",
   "execution_count": 83,
   "metadata": {},
   "outputs": [
    {
     "name": "stdout",
     "output_type": "stream",
     "text": [
      "Computing the cosine similarity matrix...\n",
      "Done computing similarity matrix.\n",
      "Computing the cosine similarity matrix...\n",
      "Done computing similarity matrix.\n",
      "Computing the cosine similarity matrix...\n",
      "Done computing similarity matrix.\n",
      "Computing the cosine similarity matrix...\n",
      "Done computing similarity matrix.\n",
      "Computing the cosine similarity matrix...\n",
      "Done computing similarity matrix.\n",
      "Evaluating RMSE, MAE of algorithm KNNWithMeans on 5 split(s).\n",
      "\n",
      "                  Fold 1  Fold 2  Fold 3  Fold 4  Fold 5  Mean    Std     \n",
      "RMSE (testset)    1.0392  1.0403  1.0319  1.0318  1.0356  1.0358  0.0035  \n",
      "MAE (testset)     0.7737  0.7787  0.7727  0.7717  0.7709  0.7736  0.0028  \n",
      "Fit time          0.30    0.29    0.29    0.31    0.30    0.30    0.01    \n",
      "Test time         0.43    0.40    0.40    0.63    0.41    0.45    0.09    \n"
     ]
    },
    {
     "data": {
      "text/plain": [
       "{'test_rmse': array([1.03918049, 1.04027796, 1.03193705, 1.03176468, 1.03563735]),\n",
       " 'test_mae': array([0.7737375 , 0.77871772, 0.77271722, 0.77172989, 0.77087757]),\n",
       " 'fit_time': (0.29900336265563965,\n",
       "  0.28999972343444824,\n",
       "  0.28999876976013184,\n",
       "  0.30700135231018066,\n",
       "  0.29595136642456055),\n",
       " 'test_time': (0.433046817779541,\n",
       "  0.40002942085266113,\n",
       "  0.4030025005340576,\n",
       "  0.6260004043579102,\n",
       "  0.4080076217651367)}"
      ]
     },
     "execution_count": 83,
     "metadata": {},
     "output_type": "execute_result"
    }
   ],
   "source": [
    "cross_validate(M2,data_for_mf , measures=['RMSE', 'MAE'], cv=5, verbose=True)"
   ]
  },
  {
   "cell_type": "markdown",
   "metadata": {},
   "source": [
    "# KNNwithMeans Item-Item similarity\n",
    "When we implement collaborative filtering with surprise package, the method that we will invoke remains the same and just the boolean value for User_based parameter decides if we are going to implement user-user similarity or item-item similarity.\n",
    "\n",
    "User_based= False will perform item , item similarity User_based= True will perform user, user similarity"
   ]
  },
  {
   "cell_type": "code",
   "execution_count": 84,
   "metadata": {},
   "outputs": [],
   "source": [
    "M3=KNNWithMeans(k=50,sim_options={'name': 'cosine', 'min_support': 5, 'user_based': False,'k':5},verbose= True,c=3)"
   ]
  },
  {
   "cell_type": "code",
   "execution_count": 85,
   "metadata": {},
   "outputs": [
    {
     "data": {
      "text/plain": [
       "<surprise.prediction_algorithms.knns.KNNWithMeans at 0x28f4ad90dc8>"
      ]
     },
     "execution_count": 85,
     "metadata": {},
     "output_type": "execute_result"
    }
   ],
   "source": [
    "M3"
   ]
  },
  {
   "cell_type": "code",
   "execution_count": 86,
   "metadata": {},
   "outputs": [
    {
     "name": "stdout",
     "output_type": "stream",
     "text": [
      "Computing the cosine similarity matrix...\n",
      "Done computing similarity matrix.\n"
     ]
    },
    {
     "data": {
      "text/plain": [
       "<surprise.prediction_algorithms.knns.KNNWithMeans at 0x28f4ad90dc8>"
      ]
     },
     "execution_count": 86,
     "metadata": {},
     "output_type": "execute_result"
    }
   ],
   "source": [
    "M3.fit(trainset)"
   ]
  },
  {
   "cell_type": "code",
   "execution_count": 87,
   "metadata": {},
   "outputs": [],
   "source": [
    "pred3=M3.test(testset)"
   ]
  },
  {
   "cell_type": "code",
   "execution_count": 88,
   "metadata": {},
   "outputs": [
    {
     "data": {
      "text/plain": [
       "[Prediction(uid='AMFXXAOVV4CPJ', iid='B001FG0JB8', r_ui=5.0, est=1.0, details={'actual_k': 0, 'was_impossible': False}),\n",
       " Prediction(uid='A3N8O68DOEQ2FE', iid='B001E1Y5O6', r_ui=2.0, est=4.591836734693878, details={'actual_k': 0, 'was_impossible': False}),\n",
       " Prediction(uid='AKBVYIIHWI04B', iid='B002MAPRYU', r_ui=5.0, est=4.206896551724138, details={'actual_k': 0, 'was_impossible': False}),\n",
       " Prediction(uid='ALNE7Q71JFC0F', iid='B002UT42UI', r_ui=2.0, est=3.8529411764705883, details={'actual_k': 0, 'was_impossible': False}),\n",
       " Prediction(uid='A2T689YVOAYGGD', iid='B002QEBMAK', r_ui=5.0, est=4.127659574468085, details={'actual_k': 0, 'was_impossible': False})]"
      ]
     },
     "execution_count": 88,
     "metadata": {},
     "output_type": "execute_result"
    }
   ],
   "source": [
    "pred3[:5]"
   ]
  },
  {
   "cell_type": "code",
   "execution_count": 89,
   "metadata": {},
   "outputs": [
    {
     "name": "stdout",
     "output_type": "stream",
     "text": [
      "The Root Mean Square Error for KNNwithMeans using item item similarity:1.1986272048648752\n",
      "The Mean Absolute Error for KNNwithMeans using item item similarity:0.8539529393160146\n"
     ]
    }
   ],
   "source": [
    "print(\"The Root Mean Square Error for KNNwithMeans using item item similarity:{}\".format(accuracy.rmse(pred3,verbose=False)))\n",
    "print(\"The Mean Absolute Error for KNNwithMeans using item item similarity:{}\".format(accuracy.mae(pred3,verbose=False)))"
   ]
  },
  {
   "cell_type": "markdown",
   "metadata": {},
   "source": [
    "# KNNWithMeans user - user similarity"
   ]
  },
  {
   "cell_type": "code",
   "execution_count": 90,
   "metadata": {},
   "outputs": [
    {
     "name": "stdout",
     "output_type": "stream",
     "text": [
      "AMFXXAOVV4CPJ ['B001FG0JB8', 'B000JVBU9K', 'B002OFA8AG', 'B001HN6CVA', 'B00180MMZC']\n",
      "A3N8O68DOEQ2FE ['B001E1Y5O6', 'B0012Z3MKW', 'B001KEBR0C', 'B001O9X9EU', 'B000Z80ICM']\n",
      "AKBVYIIHWI04B ['B002MAPRYU', 'B002A6G3V2', 'B000CKVOOY']\n",
      "ALNE7Q71JFC0F ['B002UT42UI', 'B00022KOWU', 'B00009R9BP']\n",
      "A2T689YVOAYGGD ['B0007XD33Q', 'B0002J1I2S', 'B002QEBMAK', 'B0000BZL1P', 'B001GCU0MY']\n"
     ]
    }
   ],
   "source": [
    "def get_top_user(pred2,n=5):\n",
    "  top_n=defaultdict(list)\n",
    "  for uid,iid,true_r,est,_ in pred2:\n",
    "    top_n[uid].append((iid,est))\n",
    "  for uid,user_ratings in top_n.items():\n",
    "    user_ratings.sort(key=lambda x: x[1],reverse=True)\n",
    "    top_n[uid]=user_ratings[:n]\n",
    "  return top_n\n",
    "Top_CF_user=get_top_user(pred2,n=5)\n",
    "\n",
    "# For each user Print the recommended items\n",
    "for uid, user_ratings in list(Top_CF_user.items())[:5]:\n",
    "        print(uid, [iid for (iid, _) in user_ratings])"
   ]
  },
  {
   "cell_type": "markdown",
   "metadata": {},
   "source": [
    "# KNNWithMeans item-item similarity"
   ]
  },
  {
   "cell_type": "code",
   "execution_count": 91,
   "metadata": {},
   "outputs": [
    {
     "name": "stdout",
     "output_type": "stream",
     "text": [
      "AMFXXAOVV4CPJ ['B001FG0JB8', 'B000JVBU9K', 'B002OFA8AG', 'B001HN6CVA', 'B00180MMZC']\n",
      "A3N8O68DOEQ2FE ['B001E1Y5O6', 'B0012Z3MKW', 'B001KEBR0C', 'B001O9X9EU', 'B000Z80ICM']\n",
      "AKBVYIIHWI04B ['B002MAPRYU', 'B002A6G3V2', 'B000CKVOOY']\n",
      "ALNE7Q71JFC0F ['B002UT42UI', 'B00022KOWU', 'B00009R9BP']\n",
      "A2T689YVOAYGGD ['B0007XD33Q', 'B0002J1I2S', 'B002QEBMAK', 'B0000BZL1P', 'B001GCU0MY']\n"
     ]
    }
   ],
   "source": [
    "def get_top_item(pred3,n=5):\n",
    "  top_n=defaultdict(list)\n",
    "  for uid,iid,true_r,est,_ in pred3:\n",
    "    top_n[uid].append((iid,est))\n",
    "  for uid,user_ratings in top_n.items():\n",
    "    user_ratings.sort(key=lambda x: x[1],reverse=True)\n",
    "    top_n[uid]=user_ratings[:n]\n",
    "  return top_n\n",
    "Top_CF_item=get_top_item(pred3)\n",
    "\n",
    "# For each user Print the recommended items\n",
    "df_item=pd.DataFrame()\n",
    "for uid, user_ratings in list(Top_CF_user.items())[:5]:\n",
    "        print(uid, [iid for (iid, _) in user_ratings])\n"
   ]
  },
  {
   "cell_type": "markdown",
   "metadata": {},
   "source": [
    "User-User VS Item-Item similarity\n",
    "Though user based and item based looks similar in implementation the results & how they work is entirely different.\n",
    "\n",
    "Below I am highlighting the predictions of our model M2 (user based) & M3 (Item based)\n",
    "\n",
    "Product recommendation Prediction of user-user similarity for user A2NU9H8H5MJZSL\n",
    "\n",
    "A2NU9H8H5MJZSL ['B00005T3BG', 'B0000DK69P', 'B00016WQTQ', 'B0000ALPBJ', 'B002LMCQ8O']\n",
    "\n",
    "Product recommendation Prediction of item-item similarity for user A2NU9H8H5MJZSL\n",
    "\n",
    "A2NU9H8H5MJZSL ['B00005T3BG', 'B0000DK69P', 'B00016WQTQ', 'B0000ALPBJ', 'B002LMCQ8O']\n",
    "\n",
    "As you could see, the list of products are entirely differnt."
   ]
  },
  {
   "cell_type": "code",
   "execution_count": 92,
   "metadata": {},
   "outputs": [
    {
     "name": "stdout",
     "output_type": "stream",
     "text": [
      "The Root Mean Square Error for the Matrix Factorization using SVD:0.9820025707657147\n",
      "The Mean Absolute Error for the Matrix Factorization using SVD:0.7249951977256861\n",
      "The Root Mean Square Error for KNNwithMeans using user user similarity:1.0748432415608005\n",
      "The Mean Absolute Error for KNNwithMeans using user user similarity:0.8123208725237712\n",
      "The Root Mean Square Error for KNNwithMeans using item item similarity:1.1986272048648752\n",
      "The Mean Absolute Error for KNNwithMeans using item item similarity:0.8539529393160146\n"
     ]
    }
   ],
   "source": [
    "print(\"The Root Mean Square Error for the Matrix Factorization using SVD:{}\".format(accuracy.rmse(predictions,verbose=False)))\n",
    "print(\"The Mean Absolute Error for the Matrix Factorization using SVD:{}\".format(accuracy.mae(predictions,verbose=False)))\n",
    "print(\"The Root Mean Square Error for KNNwithMeans using user user similarity:{}\".format(accuracy.rmse(pred2,verbose=False)))\n",
    "print(\"The Mean Absolute Error for KNNwithMeans using user user similarity:{}\".format(accuracy.mae(pred2,verbose=False)))\n",
    "print(\"The Root Mean Square Error for KNNwithMeans using item item similarity:{}\".format(accuracy.rmse(pred3,verbose=False)))\n",
    "print(\"The Mean Absolute Error for KNNwithMeans using item item similarity:{}\".format(accuracy.mae(pred3,verbose=False)))"
   ]
  },
  {
   "cell_type": "markdown",
   "metadata": {},
   "source": [
    "# Summary\n",
    "\n",
    "# Recommendation Systems built:\n",
    "1. Popularity based\n",
    "2. Collaborative filtering using Singular value decomposition\n",
    "3. Collaborative filtering using KNNWithmeans (user-user similarity)\n",
    "4. Collaborative filtering using KNNWithmeans (item-item similarity)\n",
    "5. Hybrid Recommendation System\n",
    "\n",
    "Popularity based system was useful in providing the users with products those have received good ratings and were on high demand. However, there was no variety and personalization to the user.\n",
    "\n",
    "Whereas, collaborative filtering with KNNwithmeans was good in providing the recommendations with personalization by selecting products those were purchased by similar users or products that were similar to other products the user has bought/liked.\n",
    "\n",
    "With SVD we were able to predict what rating a user will provide if a product is recommended to a user depending on other ratings he had provided, And recommendation can be done by setting a threshold value and recommend products that have high rating.\n",
    "\n",
    "On compairing all the recommendations we have built, each has its own advantages and disadvantages.\n"
   ]
  },
  {
   "cell_type": "markdown",
   "metadata": {},
   "source": [
    "# To conclude, for this problem statement we suggest to go with Matrix Factorization using SVD as the RMSE and MAE for this system is least in error compared to others.\n"
   ]
  },
  {
   "cell_type": "markdown",
   "metadata": {},
   "source": [
    "# References:\n",
    "1. https://towardsdatascience.com/web-scraping-recommender-systems-project-1d360fa678e4\n",
    "2. https://towardsdatascience.com/how-to-build-a-model-based-recommendation-system-using-python-surprise-2df3b77ab3e5\n",
    "3. https://towardsdatascience.com/deep-learning-based-recommender-systems-3d120201db7e\n",
    "4. https://www.cs.umd.edu/~samir/498/Amazon-Recommendations.pdf\n",
    "5. https://medium.com/@madasamy/introduction-to-recommendation-systems-and-how-to-design-recommendation-system-that-resembling-the-9ac167e30e95\n",
    "6. https://towardsdatascience.com/product-recommender-using-amazon-review-dataset-e69d479d81dd\n"
   ]
  }
 ],
 "metadata": {
  "kernelspec": {
   "display_name": "Python 3",
   "language": "python",
   "name": "python3"
  },
  "language_info": {
   "codemirror_mode": {
    "name": "ipython",
    "version": 3
   },
   "file_extension": ".py",
   "mimetype": "text/x-python",
   "name": "python",
   "nbconvert_exporter": "python",
   "pygments_lexer": "ipython3",
   "version": "3.7.6"
  }
 },
 "nbformat": 4,
 "nbformat_minor": 4
}
